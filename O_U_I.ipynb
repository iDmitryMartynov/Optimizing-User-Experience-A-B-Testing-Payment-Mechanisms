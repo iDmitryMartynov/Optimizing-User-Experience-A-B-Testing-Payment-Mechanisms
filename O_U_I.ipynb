{
  "cells": [
    {
      "cell_type": "markdown",
      "metadata": {
        "id": "udf4mUAml6hU"
      },
      "source": [
        "# Комплексное задание по A/B тестированию"
      ]
    },
    {
      "cell_type": "markdown",
      "metadata": {
        "id": "T1bVyhj4l6hZ"
      },
      "source": [
        "### Задача: Необходимо проанализировать итоги эксперимента и на его основе сделать вывод о том, что, стоит ли запускать новую механику оплаты на всех пользователей\n"
      ]
    },
    {
      "cell_type": "markdown",
      "metadata": {
        "id": "2VSOsD6Il6hb"
      },
      "source": [
        "### Необходимо ответить на следующие вопросы:\n",
        "####   1)На какие метрики Вы смотрите в ходе анализа и почему?\n",
        "####    2)Имеются ли различия в показателях и с чем они могут быть связаны?\n",
        "####    3)Являются ли эти различия статистически значимыми?\n",
        "####    4)Стоит ли запускать новую механику на всех пользователей?"
      ]
    },
    {
      "cell_type": "code",
      "execution_count": null,
      "metadata": {
        "id": "31GSuKJ4l6hc"
      },
      "outputs": [],
      "source": [
        "import pandas as pd\n",
        "from IPython.display import display, HTML, display_html\n",
        "import numpy as np\n",
        "import seaborn as sns\n",
        "import matplotlib.pyplot as plt\n",
        "import pingouin as pg\n",
        "import scipy.stats as stats\n",
        "from scipy import stats\n",
        "%matplotlib inline"
      ]
    },
    {
      "cell_type": "code",
      "execution_count": null,
      "metadata": {
        "id": "CLL15Xhyl6hf"
      },
      "outputs": [],
      "source": [
        "groups = pd.read_csv('/mnt/HC_Volume_18315164/home-jupyter/jupyter-d-martynov/lesson_1_DM/FINAL_PROJECT/Проект_2_groups.csv', sep=';')\n",
        "group_add = pd.read_csv('/mnt/HC_Volume_18315164/home-jupyter/jupyter-d-martynov/lesson_1_DM/FINAL_PROJECT/Проект_2_group_add.csv')\n",
        "active_studs = pd.read_csv('/mnt/HC_Volume_18315164/home-jupyter/jupyter-d-martynov/lesson_1_DM/FINAL_PROJECT/Проект_2_active_studs.csv')\n",
        "checks = pd.read_csv('/mnt/HC_Volume_18315164/home-jupyter/jupyter-d-martynov/lesson_1_DM/FINAL_PROJECT/Проект_2_checks.csv', sep=';')"
      ]
    },
    {
      "cell_type": "markdown",
      "metadata": {
        "id": "nVB1CAYsl6hg"
      },
      "source": [
        "## Памятка: Если у вас смазались графики, то на них необходимо нажать"
      ]
    },
    {
      "cell_type": "code",
      "execution_count": null,
      "metadata": {
        "id": "KCoqXT8jl6hh",
        "outputId": "dc1b5cee-1b54-447d-abcc-b6fd498573bd"
      },
      "outputs": [
        {
          "data": {
            "text/html": [
              "<style>\n",
              ".output {\n",
              "    flex-direction: row;\n",
              "}\n",
              "</style>"
            ],
            "text/plain": [
              "<IPython.core.display.HTML object>"
            ]
          },
          "execution_count": 3,
          "metadata": {},
          "output_type": "execute_result"
        }
      ],
      "source": [
        "CSS = \"\"\"\n",
        ".output {\n",
        "    flex-direction: row;\n",
        "}\n",
        "\"\"\"\n",
        "\n",
        "HTML('<style>{}</style>'.format(CSS))"
      ]
    },
    {
      "cell_type": "markdown",
      "metadata": {
        "id": "7edcD7nql6hj"
      },
      "source": [
        "### Проводим EDA"
      ]
    },
    {
      "cell_type": "markdown",
      "metadata": {
        "id": "sD3_Xusdl6hk"
      },
      "source": [
        "###### Привожу id-шники к одному виду."
      ]
    },
    {
      "cell_type": "code",
      "execution_count": null,
      "metadata": {
        "id": "WM6FrhDXl6hl",
        "outputId": "00f4e423-df1c-4493-b5df-575cb1cdb503"
      },
      "outputs": [
        {
          "name": "stderr",
          "output_type": "stream",
          "text": [
            "/opt/tljh/user/lib/python3.7/site-packages/outdated/utils.py:18: OutdatedCacheFailedWarning: Failed to use cache while checking for outdated package.\n",
            "Set the environment variable OUTDATED_RAISE_EXCEPTION=1 for a full traceback.\n",
            "Set the environment variable OUTDATED_IGNORE=1 to disable these warnings.\n",
            "  **kwargs\n",
            "/opt/tljh/user/lib/python3.7/site-packages/outdated/utils.py:18: OutdatedPackageWarning: The package pingouin is out of date. Your version is 0.4.0, the latest is 0.5.3.\n",
            "Set the environment variable OUTDATED_IGNORE=1 to disable these warnings.\n",
            "  **kwargs\n"
          ]
        }
      ],
      "source": [
        "active_studs = active_studs.rename(columns={'student_id':'id'})"
      ]
    },
    {
      "cell_type": "code",
      "execution_count": null,
      "metadata": {
        "id": "vtNRaFFRl6hm"
      },
      "outputs": [],
      "source": [
        "checks =  checks.rename(columns={'student_id':'id'})"
      ]
    },
    {
      "cell_type": "code",
      "execution_count": null,
      "metadata": {
        "id": "EKRt2Qzrl6hm",
        "outputId": "3940333d-3ad8-48e0-926a-0cddf3275bae"
      },
      "outputs": [
        {
          "data": {
            "text/html": [
              "<div>\n",
              "<style scoped>\n",
              "    .dataframe tbody tr th:only-of-type {\n",
              "        vertical-align: middle;\n",
              "    }\n",
              "\n",
              "    .dataframe tbody tr th {\n",
              "        vertical-align: top;\n",
              "    }\n",
              "\n",
              "    .dataframe thead th {\n",
              "        text-align: right;\n",
              "    }\n",
              "</style>\n",
              "<table border=\"1\" class=\"dataframe\">\n",
              "  <thead>\n",
              "    <tr style=\"text-align: right;\">\n",
              "      <th></th>\n",
              "      <th>id</th>\n",
              "      <th>grp</th>\n",
              "    </tr>\n",
              "  </thead>\n",
              "  <tbody>\n",
              "    <tr>\n",
              "      <th>0</th>\n",
              "      <td>1489</td>\n",
              "      <td>B</td>\n",
              "    </tr>\n",
              "    <tr>\n",
              "      <th>1</th>\n",
              "      <td>1627</td>\n",
              "      <td>A</td>\n",
              "    </tr>\n",
              "    <tr>\n",
              "      <th>2</th>\n",
              "      <td>1768</td>\n",
              "      <td>B</td>\n",
              "    </tr>\n",
              "    <tr>\n",
              "      <th>3</th>\n",
              "      <td>1783</td>\n",
              "      <td>B</td>\n",
              "    </tr>\n",
              "    <tr>\n",
              "      <th>4</th>\n",
              "      <td>1794</td>\n",
              "      <td>A</td>\n",
              "    </tr>\n",
              "    <tr>\n",
              "      <th>...</th>\n",
              "      <td>...</td>\n",
              "      <td>...</td>\n",
              "    </tr>\n",
              "    <tr>\n",
              "      <th>74479</th>\n",
              "      <td>5692459</td>\n",
              "      <td>B</td>\n",
              "    </tr>\n",
              "    <tr>\n",
              "      <th>74480</th>\n",
              "      <td>5692572</td>\n",
              "      <td>B</td>\n",
              "    </tr>\n",
              "    <tr>\n",
              "      <th>74481</th>\n",
              "      <td>5692865</td>\n",
              "      <td>B</td>\n",
              "    </tr>\n",
              "    <tr>\n",
              "      <th>74482</th>\n",
              "      <td>5693667</td>\n",
              "      <td>B</td>\n",
              "    </tr>\n",
              "    <tr>\n",
              "      <th>74483</th>\n",
              "      <td>5694419</td>\n",
              "      <td>B</td>\n",
              "    </tr>\n",
              "  </tbody>\n",
              "</table>\n",
              "<p>74484 rows × 2 columns</p>\n",
              "</div>"
            ],
            "text/plain": [
              "            id grp\n",
              "0         1489   B\n",
              "1         1627   A\n",
              "2         1768   B\n",
              "3         1783   B\n",
              "4         1794   A\n",
              "...        ...  ..\n",
              "74479  5692459   B\n",
              "74480  5692572   B\n",
              "74481  5692865   B\n",
              "74482  5693667   B\n",
              "74483  5694419   B\n",
              "\n",
              "[74484 rows x 2 columns]"
            ]
          },
          "metadata": {},
          "output_type": "display_data"
        },
        {
          "data": {
            "text/html": [
              "<div>\n",
              "<style scoped>\n",
              "    .dataframe tbody tr th:only-of-type {\n",
              "        vertical-align: middle;\n",
              "    }\n",
              "\n",
              "    .dataframe tbody tr th {\n",
              "        vertical-align: top;\n",
              "    }\n",
              "\n",
              "    .dataframe thead th {\n",
              "        text-align: right;\n",
              "    }\n",
              "</style>\n",
              "<table border=\"1\" class=\"dataframe\">\n",
              "  <thead>\n",
              "    <tr style=\"text-align: right;\">\n",
              "      <th></th>\n",
              "      <th>id</th>\n",
              "      <th>grp</th>\n",
              "    </tr>\n",
              "  </thead>\n",
              "  <tbody>\n",
              "    <tr>\n",
              "      <th>0</th>\n",
              "      <td>5694584</td>\n",
              "      <td>B</td>\n",
              "    </tr>\n",
              "    <tr>\n",
              "      <th>1</th>\n",
              "      <td>5694830</td>\n",
              "      <td>B</td>\n",
              "    </tr>\n",
              "    <tr>\n",
              "      <th>2</th>\n",
              "      <td>5695057</td>\n",
              "      <td>B</td>\n",
              "    </tr>\n",
              "    <tr>\n",
              "      <th>3</th>\n",
              "      <td>5698872</td>\n",
              "      <td>B</td>\n",
              "    </tr>\n",
              "    <tr>\n",
              "      <th>4</th>\n",
              "      <td>5699067</td>\n",
              "      <td>B</td>\n",
              "    </tr>\n",
              "    <tr>\n",
              "      <th>...</th>\n",
              "      <td>...</td>\n",
              "      <td>...</td>\n",
              "    </tr>\n",
              "    <tr>\n",
              "      <th>87</th>\n",
              "      <td>200247820</td>\n",
              "      <td>B</td>\n",
              "    </tr>\n",
              "    <tr>\n",
              "      <th>88</th>\n",
              "      <td>201032527</td>\n",
              "      <td>B</td>\n",
              "    </tr>\n",
              "    <tr>\n",
              "      <th>89</th>\n",
              "      <td>201067612</td>\n",
              "      <td>B</td>\n",
              "    </tr>\n",
              "    <tr>\n",
              "      <th>90</th>\n",
              "      <td>201067653</td>\n",
              "      <td>B</td>\n",
              "    </tr>\n",
              "    <tr>\n",
              "      <th>91</th>\n",
              "      <td>201067659</td>\n",
              "      <td>B</td>\n",
              "    </tr>\n",
              "  </tbody>\n",
              "</table>\n",
              "<p>92 rows × 2 columns</p>\n",
              "</div>"
            ],
            "text/plain": [
              "           id grp\n",
              "0     5694584   B\n",
              "1     5694830   B\n",
              "2     5695057   B\n",
              "3     5698872   B\n",
              "4     5699067   B\n",
              "..        ...  ..\n",
              "87  200247820   B\n",
              "88  201032527   B\n",
              "89  201067612   B\n",
              "90  201067653   B\n",
              "91  201067659   B\n",
              "\n",
              "[92 rows x 2 columns]"
            ]
          },
          "metadata": {},
          "output_type": "display_data"
        },
        {
          "name": "stderr",
          "output_type": "stream",
          "text": [
            "/opt/tljh/user/lib/python3.7/site-packages/outdated/utils.py:18: OutdatedCacheFailedWarning: Failed to use cache while checking for outdated package.\n",
            "Set the environment variable OUTDATED_RAISE_EXCEPTION=1 for a full traceback.\n",
            "Set the environment variable OUTDATED_IGNORE=1 to disable these warnings.\n",
            "  **kwargs\n",
            "/opt/tljh/user/lib/python3.7/site-packages/outdated/utils.py:18: OutdatedPackageWarning: The package outdated is out of date. Your version is 0.2.1, the latest is 0.2.2.\n",
            "Set the environment variable OUTDATED_IGNORE=1 to disable these warnings.\n",
            "  **kwargs\n"
          ]
        },
        {
          "data": {
            "text/html": [
              "<div>\n",
              "<style scoped>\n",
              "    .dataframe tbody tr th:only-of-type {\n",
              "        vertical-align: middle;\n",
              "    }\n",
              "\n",
              "    .dataframe tbody tr th {\n",
              "        vertical-align: top;\n",
              "    }\n",
              "\n",
              "    .dataframe thead th {\n",
              "        text-align: right;\n",
              "    }\n",
              "</style>\n",
              "<table border=\"1\" class=\"dataframe\">\n",
              "  <thead>\n",
              "    <tr style=\"text-align: right;\">\n",
              "      <th></th>\n",
              "      <th>id</th>\n",
              "    </tr>\n",
              "  </thead>\n",
              "  <tbody>\n",
              "    <tr>\n",
              "      <th>0</th>\n",
              "      <td>581585</td>\n",
              "    </tr>\n",
              "    <tr>\n",
              "      <th>1</th>\n",
              "      <td>5723133</td>\n",
              "    </tr>\n",
              "    <tr>\n",
              "      <th>2</th>\n",
              "      <td>3276743</td>\n",
              "    </tr>\n",
              "    <tr>\n",
              "      <th>3</th>\n",
              "      <td>4238589</td>\n",
              "    </tr>\n",
              "    <tr>\n",
              "      <th>4</th>\n",
              "      <td>4475369</td>\n",
              "    </tr>\n",
              "    <tr>\n",
              "      <th>...</th>\n",
              "      <td>...</td>\n",
              "    </tr>\n",
              "    <tr>\n",
              "      <th>8336</th>\n",
              "      <td>1794344</td>\n",
              "    </tr>\n",
              "    <tr>\n",
              "      <th>8337</th>\n",
              "      <td>296883</td>\n",
              "    </tr>\n",
              "    <tr>\n",
              "      <th>8338</th>\n",
              "      <td>3598448</td>\n",
              "    </tr>\n",
              "    <tr>\n",
              "      <th>8339</th>\n",
              "      <td>3610547</td>\n",
              "    </tr>\n",
              "    <tr>\n",
              "      <th>8340</th>\n",
              "      <td>205705</td>\n",
              "    </tr>\n",
              "  </tbody>\n",
              "</table>\n",
              "<p>8341 rows × 1 columns</p>\n",
              "</div>"
            ],
            "text/plain": [
              "           id\n",
              "0      581585\n",
              "1     5723133\n",
              "2     3276743\n",
              "3     4238589\n",
              "4     4475369\n",
              "...       ...\n",
              "8336  1794344\n",
              "8337   296883\n",
              "8338  3598448\n",
              "8339  3610547\n",
              "8340   205705\n",
              "\n",
              "[8341 rows x 1 columns]"
            ]
          },
          "metadata": {},
          "output_type": "display_data"
        },
        {
          "data": {
            "text/html": [
              "<div>\n",
              "<style scoped>\n",
              "    .dataframe tbody tr th:only-of-type {\n",
              "        vertical-align: middle;\n",
              "    }\n",
              "\n",
              "    .dataframe tbody tr th {\n",
              "        vertical-align: top;\n",
              "    }\n",
              "\n",
              "    .dataframe thead th {\n",
              "        text-align: right;\n",
              "    }\n",
              "</style>\n",
              "<table border=\"1\" class=\"dataframe\">\n",
              "  <thead>\n",
              "    <tr style=\"text-align: right;\">\n",
              "      <th></th>\n",
              "      <th>id</th>\n",
              "      <th>rev</th>\n",
              "    </tr>\n",
              "  </thead>\n",
              "  <tbody>\n",
              "    <tr>\n",
              "      <th>0</th>\n",
              "      <td>1627</td>\n",
              "      <td>990.0</td>\n",
              "    </tr>\n",
              "    <tr>\n",
              "      <th>1</th>\n",
              "      <td>3185</td>\n",
              "      <td>690.0</td>\n",
              "    </tr>\n",
              "    <tr>\n",
              "      <th>2</th>\n",
              "      <td>25973</td>\n",
              "      <td>690.0</td>\n",
              "    </tr>\n",
              "    <tr>\n",
              "      <th>3</th>\n",
              "      <td>26280</td>\n",
              "      <td>690.0</td>\n",
              "    </tr>\n",
              "    <tr>\n",
              "      <th>4</th>\n",
              "      <td>100300</td>\n",
              "      <td>990.0</td>\n",
              "    </tr>\n",
              "    <tr>\n",
              "      <th>...</th>\n",
              "      <td>...</td>\n",
              "      <td>...</td>\n",
              "    </tr>\n",
              "    <tr>\n",
              "      <th>536</th>\n",
              "      <td>5645737</td>\n",
              "      <td>1900.0</td>\n",
              "    </tr>\n",
              "    <tr>\n",
              "      <th>537</th>\n",
              "      <td>5651566</td>\n",
              "      <td>1900.0</td>\n",
              "    </tr>\n",
              "    <tr>\n",
              "      <th>538</th>\n",
              "      <td>5662322</td>\n",
              "      <td>1900.0</td>\n",
              "    </tr>\n",
              "    <tr>\n",
              "      <th>539</th>\n",
              "      <td>5681918</td>\n",
              "      <td>1900.0</td>\n",
              "    </tr>\n",
              "    <tr>\n",
              "      <th>540</th>\n",
              "      <td>5740903</td>\n",
              "      <td>1900.0</td>\n",
              "    </tr>\n",
              "  </tbody>\n",
              "</table>\n",
              "<p>541 rows × 2 columns</p>\n",
              "</div>"
            ],
            "text/plain": [
              "          id     rev\n",
              "0       1627   990.0\n",
              "1       3185   690.0\n",
              "2      25973   690.0\n",
              "3      26280   690.0\n",
              "4     100300   990.0\n",
              "..       ...     ...\n",
              "536  5645737  1900.0\n",
              "537  5651566  1900.0\n",
              "538  5662322  1900.0\n",
              "539  5681918  1900.0\n",
              "540  5740903  1900.0\n",
              "\n",
              "[541 rows x 2 columns]"
            ]
          },
          "metadata": {},
          "output_type": "display_data"
        }
      ],
      "source": [
        "display(groups, group_add, active_studs, checks)"
      ]
    },
    {
      "cell_type": "markdown",
      "metadata": {
        "id": "PYsbGcEVl6hn"
      },
      "source": [
        "###### Видим, что нет повторений среди id"
      ]
    },
    {
      "cell_type": "code",
      "execution_count": null,
      "metadata": {
        "id": "ssfkLwhHl6ho",
        "outputId": "6cd3ea5e-39eb-4cb3-fa5c-d8a56ae46f94"
      },
      "outputs": [
        {
          "data": {
            "text/plain": [
              "74484"
            ]
          },
          "metadata": {},
          "output_type": "display_data"
        },
        {
          "data": {
            "text/plain": [
              "92"
            ]
          },
          "metadata": {},
          "output_type": "display_data"
        },
        {
          "data": {
            "text/plain": [
              "8341"
            ]
          },
          "metadata": {},
          "output_type": "display_data"
        },
        {
          "data": {
            "text/plain": [
              "541"
            ]
          },
          "metadata": {},
          "output_type": "display_data"
        }
      ],
      "source": [
        "display(groups['id'].nunique(), group_add['id'].nunique(), active_studs['id'].nunique(), checks['id'].nunique())"
      ]
    },
    {
      "cell_type": "markdown",
      "metadata": {
        "id": "cySoeJaPl6hp"
      },
      "source": [
        "###### Смотрим типы данных"
      ]
    },
    {
      "cell_type": "code",
      "execution_count": null,
      "metadata": {
        "id": "g5x729P7l6hq",
        "outputId": "7c30206b-1066-4830-bf8c-209a0b6547c2"
      },
      "outputs": [
        {
          "data": {
            "text/html": [
              "<div>\n",
              "<style scoped>\n",
              "    .dataframe tbody tr th:only-of-type {\n",
              "        vertical-align: middle;\n",
              "    }\n",
              "\n",
              "    .dataframe tbody tr th {\n",
              "        vertical-align: top;\n",
              "    }\n",
              "\n",
              "    .dataframe thead th {\n",
              "        text-align: right;\n",
              "    }\n",
              "</style>\n",
              "<table border=\"1\" class=\"dataframe\">\n",
              "  <thead>\n",
              "    <tr style=\"text-align: right;\">\n",
              "      <th></th>\n",
              "      <th>0</th>\n",
              "    </tr>\n",
              "  </thead>\n",
              "  <tbody>\n",
              "    <tr>\n",
              "      <th>id</th>\n",
              "      <td>int64</td>\n",
              "    </tr>\n",
              "    <tr>\n",
              "      <th>grp</th>\n",
              "      <td>object</td>\n",
              "    </tr>\n",
              "  </tbody>\n",
              "</table>\n",
              "</div>"
            ],
            "text/plain": [
              "          0\n",
              "id    int64\n",
              "grp  object"
            ]
          },
          "metadata": {},
          "output_type": "display_data"
        },
        {
          "data": {
            "text/html": [
              "<div>\n",
              "<style scoped>\n",
              "    .dataframe tbody tr th:only-of-type {\n",
              "        vertical-align: middle;\n",
              "    }\n",
              "\n",
              "    .dataframe tbody tr th {\n",
              "        vertical-align: top;\n",
              "    }\n",
              "\n",
              "    .dataframe thead th {\n",
              "        text-align: right;\n",
              "    }\n",
              "</style>\n",
              "<table border=\"1\" class=\"dataframe\">\n",
              "  <thead>\n",
              "    <tr style=\"text-align: right;\">\n",
              "      <th></th>\n",
              "      <th>0</th>\n",
              "    </tr>\n",
              "  </thead>\n",
              "  <tbody>\n",
              "    <tr>\n",
              "      <th>id</th>\n",
              "      <td>int64</td>\n",
              "    </tr>\n",
              "    <tr>\n",
              "      <th>grp</th>\n",
              "      <td>object</td>\n",
              "    </tr>\n",
              "  </tbody>\n",
              "</table>\n",
              "</div>"
            ],
            "text/plain": [
              "          0\n",
              "id    int64\n",
              "grp  object"
            ]
          },
          "metadata": {},
          "output_type": "display_data"
        },
        {
          "data": {
            "text/html": [
              "<div>\n",
              "<style scoped>\n",
              "    .dataframe tbody tr th:only-of-type {\n",
              "        vertical-align: middle;\n",
              "    }\n",
              "\n",
              "    .dataframe tbody tr th {\n",
              "        vertical-align: top;\n",
              "    }\n",
              "\n",
              "    .dataframe thead th {\n",
              "        text-align: right;\n",
              "    }\n",
              "</style>\n",
              "<table border=\"1\" class=\"dataframe\">\n",
              "  <thead>\n",
              "    <tr style=\"text-align: right;\">\n",
              "      <th></th>\n",
              "      <th>0</th>\n",
              "    </tr>\n",
              "  </thead>\n",
              "  <tbody>\n",
              "    <tr>\n",
              "      <th>id</th>\n",
              "      <td>int64</td>\n",
              "    </tr>\n",
              "  </tbody>\n",
              "</table>\n",
              "</div>"
            ],
            "text/plain": [
              "        0\n",
              "id  int64"
            ]
          },
          "metadata": {},
          "output_type": "display_data"
        },
        {
          "data": {
            "text/html": [
              "<div>\n",
              "<style scoped>\n",
              "    .dataframe tbody tr th:only-of-type {\n",
              "        vertical-align: middle;\n",
              "    }\n",
              "\n",
              "    .dataframe tbody tr th {\n",
              "        vertical-align: top;\n",
              "    }\n",
              "\n",
              "    .dataframe thead th {\n",
              "        text-align: right;\n",
              "    }\n",
              "</style>\n",
              "<table border=\"1\" class=\"dataframe\">\n",
              "  <thead>\n",
              "    <tr style=\"text-align: right;\">\n",
              "      <th></th>\n",
              "      <th>0</th>\n",
              "    </tr>\n",
              "  </thead>\n",
              "  <tbody>\n",
              "    <tr>\n",
              "      <th>id</th>\n",
              "      <td>int64</td>\n",
              "    </tr>\n",
              "    <tr>\n",
              "      <th>rev</th>\n",
              "      <td>float64</td>\n",
              "    </tr>\n",
              "  </tbody>\n",
              "</table>\n",
              "</div>"
            ],
            "text/plain": [
              "           0\n",
              "id     int64\n",
              "rev  float64"
            ]
          },
          "metadata": {},
          "output_type": "display_data"
        }
      ],
      "source": [
        "display(pd.DataFrame(groups.dtypes), pd.DataFrame(group_add.dtypes),\n",
        "        pd.DataFrame(active_studs.dtypes), pd.DataFrame(checks.dtypes))"
      ]
    },
    {
      "cell_type": "markdown",
      "metadata": {
        "id": "641nXZVtl6hq"
      },
      "source": [
        "###### Видим, что нет недостающих значений нет"
      ]
    },
    {
      "cell_type": "code",
      "execution_count": null,
      "metadata": {
        "id": "tMxoE7y7l6hr",
        "outputId": "76d3800d-46b4-4439-b95c-a7e804c67835"
      },
      "outputs": [
        {
          "data": {
            "text/html": [
              "<div>\n",
              "<style scoped>\n",
              "    .dataframe tbody tr th:only-of-type {\n",
              "        vertical-align: middle;\n",
              "    }\n",
              "\n",
              "    .dataframe tbody tr th {\n",
              "        vertical-align: top;\n",
              "    }\n",
              "\n",
              "    .dataframe thead th {\n",
              "        text-align: right;\n",
              "    }\n",
              "</style>\n",
              "<table border=\"1\" class=\"dataframe\">\n",
              "  <thead>\n",
              "    <tr style=\"text-align: right;\">\n",
              "      <th></th>\n",
              "      <th>0</th>\n",
              "    </tr>\n",
              "  </thead>\n",
              "  <tbody>\n",
              "    <tr>\n",
              "      <th>id</th>\n",
              "      <td>False</td>\n",
              "    </tr>\n",
              "    <tr>\n",
              "      <th>grp</th>\n",
              "      <td>False</td>\n",
              "    </tr>\n",
              "  </tbody>\n",
              "</table>\n",
              "</div>"
            ],
            "text/plain": [
              "         0\n",
              "id   False\n",
              "grp  False"
            ]
          },
          "metadata": {},
          "output_type": "display_data"
        },
        {
          "data": {
            "text/html": [
              "<div>\n",
              "<style scoped>\n",
              "    .dataframe tbody tr th:only-of-type {\n",
              "        vertical-align: middle;\n",
              "    }\n",
              "\n",
              "    .dataframe tbody tr th {\n",
              "        vertical-align: top;\n",
              "    }\n",
              "\n",
              "    .dataframe thead th {\n",
              "        text-align: right;\n",
              "    }\n",
              "</style>\n",
              "<table border=\"1\" class=\"dataframe\">\n",
              "  <thead>\n",
              "    <tr style=\"text-align: right;\">\n",
              "      <th></th>\n",
              "      <th>0</th>\n",
              "    </tr>\n",
              "  </thead>\n",
              "  <tbody>\n",
              "    <tr>\n",
              "      <th>id</th>\n",
              "      <td>False</td>\n",
              "    </tr>\n",
              "    <tr>\n",
              "      <th>grp</th>\n",
              "      <td>False</td>\n",
              "    </tr>\n",
              "  </tbody>\n",
              "</table>\n",
              "</div>"
            ],
            "text/plain": [
              "         0\n",
              "id   False\n",
              "grp  False"
            ]
          },
          "metadata": {},
          "output_type": "display_data"
        },
        {
          "data": {
            "text/html": [
              "<div>\n",
              "<style scoped>\n",
              "    .dataframe tbody tr th:only-of-type {\n",
              "        vertical-align: middle;\n",
              "    }\n",
              "\n",
              "    .dataframe tbody tr th {\n",
              "        vertical-align: top;\n",
              "    }\n",
              "\n",
              "    .dataframe thead th {\n",
              "        text-align: right;\n",
              "    }\n",
              "</style>\n",
              "<table border=\"1\" class=\"dataframe\">\n",
              "  <thead>\n",
              "    <tr style=\"text-align: right;\">\n",
              "      <th></th>\n",
              "      <th>0</th>\n",
              "    </tr>\n",
              "  </thead>\n",
              "  <tbody>\n",
              "    <tr>\n",
              "      <th>id</th>\n",
              "      <td>False</td>\n",
              "    </tr>\n",
              "  </tbody>\n",
              "</table>\n",
              "</div>"
            ],
            "text/plain": [
              "        0\n",
              "id  False"
            ]
          },
          "metadata": {},
          "output_type": "display_data"
        },
        {
          "data": {
            "text/html": [
              "<div>\n",
              "<style scoped>\n",
              "    .dataframe tbody tr th:only-of-type {\n",
              "        vertical-align: middle;\n",
              "    }\n",
              "\n",
              "    .dataframe tbody tr th {\n",
              "        vertical-align: top;\n",
              "    }\n",
              "\n",
              "    .dataframe thead th {\n",
              "        text-align: right;\n",
              "    }\n",
              "</style>\n",
              "<table border=\"1\" class=\"dataframe\">\n",
              "  <thead>\n",
              "    <tr style=\"text-align: right;\">\n",
              "      <th></th>\n",
              "      <th>0</th>\n",
              "    </tr>\n",
              "  </thead>\n",
              "  <tbody>\n",
              "    <tr>\n",
              "      <th>id</th>\n",
              "      <td>False</td>\n",
              "    </tr>\n",
              "    <tr>\n",
              "      <th>rev</th>\n",
              "      <td>False</td>\n",
              "    </tr>\n",
              "  </tbody>\n",
              "</table>\n",
              "</div>"
            ],
            "text/plain": [
              "         0\n",
              "id   False\n",
              "rev  False"
            ]
          },
          "metadata": {},
          "output_type": "display_data"
        }
      ],
      "source": [
        "display(pd.DataFrame(groups.isna().any()), pd.DataFrame(group_add.isna().any()),\n",
        "        pd.DataFrame(active_studs.isna().any()), pd.DataFrame(checks.isna().any()))"
      ]
    },
    {
      "cell_type": "markdown",
      "metadata": {
        "id": "bfZXMyNal6hs"
      },
      "source": [
        "## Подготовка данных"
      ]
    },
    {
      "cell_type": "code",
      "execution_count": null,
      "metadata": {
        "id": "9KvHNvIal6hs",
        "outputId": "00ca639e-5152-49e8-a44f-e66959624b02"
      },
      "outputs": [
        {
          "data": {
            "text/html": [
              "<div>\n",
              "<style scoped>\n",
              "    .dataframe tbody tr th:only-of-type {\n",
              "        vertical-align: middle;\n",
              "    }\n",
              "\n",
              "    .dataframe tbody tr th {\n",
              "        vertical-align: top;\n",
              "    }\n",
              "\n",
              "    .dataframe thead th {\n",
              "        text-align: right;\n",
              "    }\n",
              "</style>\n",
              "<table border=\"1\" class=\"dataframe\">\n",
              "  <thead>\n",
              "    <tr style=\"text-align: right;\">\n",
              "      <th></th>\n",
              "      <th>id</th>\n",
              "      <th>grp</th>\n",
              "    </tr>\n",
              "  </thead>\n",
              "  <tbody>\n",
              "    <tr>\n",
              "      <th>0</th>\n",
              "      <td>1489</td>\n",
              "      <td>B</td>\n",
              "    </tr>\n",
              "    <tr>\n",
              "      <th>1</th>\n",
              "      <td>1627</td>\n",
              "      <td>A</td>\n",
              "    </tr>\n",
              "    <tr>\n",
              "      <th>2</th>\n",
              "      <td>1768</td>\n",
              "      <td>B</td>\n",
              "    </tr>\n",
              "    <tr>\n",
              "      <th>3</th>\n",
              "      <td>1783</td>\n",
              "      <td>B</td>\n",
              "    </tr>\n",
              "    <tr>\n",
              "      <th>4</th>\n",
              "      <td>1794</td>\n",
              "      <td>A</td>\n",
              "    </tr>\n",
              "    <tr>\n",
              "      <th>...</th>\n",
              "      <td>...</td>\n",
              "      <td>...</td>\n",
              "    </tr>\n",
              "    <tr>\n",
              "      <th>74479</th>\n",
              "      <td>5692459</td>\n",
              "      <td>B</td>\n",
              "    </tr>\n",
              "    <tr>\n",
              "      <th>74480</th>\n",
              "      <td>5692572</td>\n",
              "      <td>B</td>\n",
              "    </tr>\n",
              "    <tr>\n",
              "      <th>74481</th>\n",
              "      <td>5692865</td>\n",
              "      <td>B</td>\n",
              "    </tr>\n",
              "    <tr>\n",
              "      <th>74482</th>\n",
              "      <td>5693667</td>\n",
              "      <td>B</td>\n",
              "    </tr>\n",
              "    <tr>\n",
              "      <th>74483</th>\n",
              "      <td>5694419</td>\n",
              "      <td>B</td>\n",
              "    </tr>\n",
              "  </tbody>\n",
              "</table>\n",
              "<p>74484 rows × 2 columns</p>\n",
              "</div>"
            ],
            "text/plain": [
              "            id grp\n",
              "0         1489   B\n",
              "1         1627   A\n",
              "2         1768   B\n",
              "3         1783   B\n",
              "4         1794   A\n",
              "...        ...  ..\n",
              "74479  5692459   B\n",
              "74480  5692572   B\n",
              "74481  5692865   B\n",
              "74482  5693667   B\n",
              "74483  5694419   B\n",
              "\n",
              "[74484 rows x 2 columns]"
            ]
          },
          "metadata": {},
          "output_type": "display_data"
        },
        {
          "data": {
            "text/html": [
              "<div>\n",
              "<style scoped>\n",
              "    .dataframe tbody tr th:only-of-type {\n",
              "        vertical-align: middle;\n",
              "    }\n",
              "\n",
              "    .dataframe tbody tr th {\n",
              "        vertical-align: top;\n",
              "    }\n",
              "\n",
              "    .dataframe thead th {\n",
              "        text-align: right;\n",
              "    }\n",
              "</style>\n",
              "<table border=\"1\" class=\"dataframe\">\n",
              "  <thead>\n",
              "    <tr style=\"text-align: right;\">\n",
              "      <th></th>\n",
              "      <th>id</th>\n",
              "      <th>grp</th>\n",
              "    </tr>\n",
              "  </thead>\n",
              "  <tbody>\n",
              "    <tr>\n",
              "      <th>0</th>\n",
              "      <td>5694584</td>\n",
              "      <td>B</td>\n",
              "    </tr>\n",
              "    <tr>\n",
              "      <th>1</th>\n",
              "      <td>5694830</td>\n",
              "      <td>B</td>\n",
              "    </tr>\n",
              "    <tr>\n",
              "      <th>2</th>\n",
              "      <td>5695057</td>\n",
              "      <td>B</td>\n",
              "    </tr>\n",
              "    <tr>\n",
              "      <th>3</th>\n",
              "      <td>5698872</td>\n",
              "      <td>B</td>\n",
              "    </tr>\n",
              "    <tr>\n",
              "      <th>4</th>\n",
              "      <td>5699067</td>\n",
              "      <td>B</td>\n",
              "    </tr>\n",
              "    <tr>\n",
              "      <th>...</th>\n",
              "      <td>...</td>\n",
              "      <td>...</td>\n",
              "    </tr>\n",
              "    <tr>\n",
              "      <th>87</th>\n",
              "      <td>200247820</td>\n",
              "      <td>B</td>\n",
              "    </tr>\n",
              "    <tr>\n",
              "      <th>88</th>\n",
              "      <td>201032527</td>\n",
              "      <td>B</td>\n",
              "    </tr>\n",
              "    <tr>\n",
              "      <th>89</th>\n",
              "      <td>201067612</td>\n",
              "      <td>B</td>\n",
              "    </tr>\n",
              "    <tr>\n",
              "      <th>90</th>\n",
              "      <td>201067653</td>\n",
              "      <td>B</td>\n",
              "    </tr>\n",
              "    <tr>\n",
              "      <th>91</th>\n",
              "      <td>201067659</td>\n",
              "      <td>B</td>\n",
              "    </tr>\n",
              "  </tbody>\n",
              "</table>\n",
              "<p>92 rows × 2 columns</p>\n",
              "</div>"
            ],
            "text/plain": [
              "           id grp\n",
              "0     5694584   B\n",
              "1     5694830   B\n",
              "2     5695057   B\n",
              "3     5698872   B\n",
              "4     5699067   B\n",
              "..        ...  ..\n",
              "87  200247820   B\n",
              "88  201032527   B\n",
              "89  201067612   B\n",
              "90  201067653   B\n",
              "91  201067659   B\n",
              "\n",
              "[92 rows x 2 columns]"
            ]
          },
          "metadata": {},
          "output_type": "display_data"
        },
        {
          "data": {
            "text/html": [
              "<div>\n",
              "<style scoped>\n",
              "    .dataframe tbody tr th:only-of-type {\n",
              "        vertical-align: middle;\n",
              "    }\n",
              "\n",
              "    .dataframe tbody tr th {\n",
              "        vertical-align: top;\n",
              "    }\n",
              "\n",
              "    .dataframe thead th {\n",
              "        text-align: right;\n",
              "    }\n",
              "</style>\n",
              "<table border=\"1\" class=\"dataframe\">\n",
              "  <thead>\n",
              "    <tr style=\"text-align: right;\">\n",
              "      <th></th>\n",
              "      <th>id</th>\n",
              "    </tr>\n",
              "  </thead>\n",
              "  <tbody>\n",
              "    <tr>\n",
              "      <th>0</th>\n",
              "      <td>581585</td>\n",
              "    </tr>\n",
              "    <tr>\n",
              "      <th>1</th>\n",
              "      <td>5723133</td>\n",
              "    </tr>\n",
              "    <tr>\n",
              "      <th>2</th>\n",
              "      <td>3276743</td>\n",
              "    </tr>\n",
              "    <tr>\n",
              "      <th>3</th>\n",
              "      <td>4238589</td>\n",
              "    </tr>\n",
              "    <tr>\n",
              "      <th>4</th>\n",
              "      <td>4475369</td>\n",
              "    </tr>\n",
              "    <tr>\n",
              "      <th>...</th>\n",
              "      <td>...</td>\n",
              "    </tr>\n",
              "    <tr>\n",
              "      <th>8336</th>\n",
              "      <td>1794344</td>\n",
              "    </tr>\n",
              "    <tr>\n",
              "      <th>8337</th>\n",
              "      <td>296883</td>\n",
              "    </tr>\n",
              "    <tr>\n",
              "      <th>8338</th>\n",
              "      <td>3598448</td>\n",
              "    </tr>\n",
              "    <tr>\n",
              "      <th>8339</th>\n",
              "      <td>3610547</td>\n",
              "    </tr>\n",
              "    <tr>\n",
              "      <th>8340</th>\n",
              "      <td>205705</td>\n",
              "    </tr>\n",
              "  </tbody>\n",
              "</table>\n",
              "<p>8341 rows × 1 columns</p>\n",
              "</div>"
            ],
            "text/plain": [
              "           id\n",
              "0      581585\n",
              "1     5723133\n",
              "2     3276743\n",
              "3     4238589\n",
              "4     4475369\n",
              "...       ...\n",
              "8336  1794344\n",
              "8337   296883\n",
              "8338  3598448\n",
              "8339  3610547\n",
              "8340   205705\n",
              "\n",
              "[8341 rows x 1 columns]"
            ]
          },
          "metadata": {},
          "output_type": "display_data"
        },
        {
          "data": {
            "text/html": [
              "<div>\n",
              "<style scoped>\n",
              "    .dataframe tbody tr th:only-of-type {\n",
              "        vertical-align: middle;\n",
              "    }\n",
              "\n",
              "    .dataframe tbody tr th {\n",
              "        vertical-align: top;\n",
              "    }\n",
              "\n",
              "    .dataframe thead th {\n",
              "        text-align: right;\n",
              "    }\n",
              "</style>\n",
              "<table border=\"1\" class=\"dataframe\">\n",
              "  <thead>\n",
              "    <tr style=\"text-align: right;\">\n",
              "      <th></th>\n",
              "      <th>id</th>\n",
              "      <th>rev</th>\n",
              "    </tr>\n",
              "  </thead>\n",
              "  <tbody>\n",
              "    <tr>\n",
              "      <th>0</th>\n",
              "      <td>1627</td>\n",
              "      <td>990.0</td>\n",
              "    </tr>\n",
              "    <tr>\n",
              "      <th>1</th>\n",
              "      <td>3185</td>\n",
              "      <td>690.0</td>\n",
              "    </tr>\n",
              "    <tr>\n",
              "      <th>2</th>\n",
              "      <td>25973</td>\n",
              "      <td>690.0</td>\n",
              "    </tr>\n",
              "    <tr>\n",
              "      <th>3</th>\n",
              "      <td>26280</td>\n",
              "      <td>690.0</td>\n",
              "    </tr>\n",
              "    <tr>\n",
              "      <th>4</th>\n",
              "      <td>100300</td>\n",
              "      <td>990.0</td>\n",
              "    </tr>\n",
              "    <tr>\n",
              "      <th>...</th>\n",
              "      <td>...</td>\n",
              "      <td>...</td>\n",
              "    </tr>\n",
              "    <tr>\n",
              "      <th>536</th>\n",
              "      <td>5645737</td>\n",
              "      <td>1900.0</td>\n",
              "    </tr>\n",
              "    <tr>\n",
              "      <th>537</th>\n",
              "      <td>5651566</td>\n",
              "      <td>1900.0</td>\n",
              "    </tr>\n",
              "    <tr>\n",
              "      <th>538</th>\n",
              "      <td>5662322</td>\n",
              "      <td>1900.0</td>\n",
              "    </tr>\n",
              "    <tr>\n",
              "      <th>539</th>\n",
              "      <td>5681918</td>\n",
              "      <td>1900.0</td>\n",
              "    </tr>\n",
              "    <tr>\n",
              "      <th>540</th>\n",
              "      <td>5740903</td>\n",
              "      <td>1900.0</td>\n",
              "    </tr>\n",
              "  </tbody>\n",
              "</table>\n",
              "<p>541 rows × 2 columns</p>\n",
              "</div>"
            ],
            "text/plain": [
              "          id     rev\n",
              "0       1627   990.0\n",
              "1       3185   690.0\n",
              "2      25973   690.0\n",
              "3      26280   690.0\n",
              "4     100300   990.0\n",
              "..       ...     ...\n",
              "536  5645737  1900.0\n",
              "537  5651566  1900.0\n",
              "538  5662322  1900.0\n",
              "539  5681918  1900.0\n",
              "540  5740903  1900.0\n",
              "\n",
              "[541 rows x 2 columns]"
            ]
          },
          "metadata": {},
          "output_type": "display_data"
        }
      ],
      "source": [
        "display(groups, group_add, active_studs, checks)"
      ]
    },
    {
      "cell_type": "markdown",
      "metadata": {
        "id": "aONONM17l6ht"
      },
      "source": [
        "###### Если файл group_add является дополнительным, то \"приклею\" его к основному"
      ]
    },
    {
      "cell_type": "code",
      "execution_count": null,
      "metadata": {
        "id": "ylwlotF8l6hu",
        "outputId": "fe03e2e0-5cfc-47a0-dbf9-5682d2144587"
      },
      "outputs": [
        {
          "data": {
            "text/plain": [
              "74576"
            ]
          },
          "execution_count": 11,
          "metadata": {},
          "output_type": "execute_result"
        }
      ],
      "source": [
        "full_group = pd.concat([groups, group_add])\n",
        "full_group.shape[0]"
      ]
    },
    {
      "cell_type": "markdown",
      "metadata": {
        "id": "OREo6Zkkl6hv"
      },
      "source": [
        "###### Проверяю, сколько id содержаться в full_group"
      ]
    },
    {
      "cell_type": "code",
      "execution_count": null,
      "metadata": {
        "id": "IeVAoMJBl6hv",
        "outputId": "95862649-02e2-4e0f-d60b-3af553e37019"
      },
      "outputs": [
        {
          "data": {
            "text/plain": [
              "8341"
            ]
          },
          "execution_count": 12,
          "metadata": {},
          "output_type": "execute_result"
        }
      ],
      "source": [
        "np.isin(active_studs, full_group['id']).sum() # Как мы можем видеть, что все id из active_studs находятся в full_group"
      ]
    },
    {
      "cell_type": "markdown",
      "metadata": {
        "id": "qm8xUtFul6hw"
      },
      "source": [
        "###### Объединяю в один ДФ"
      ]
    },
    {
      "cell_type": "code",
      "execution_count": null,
      "metadata": {
        "id": "Yqjk2nN3l6hx"
      },
      "outputs": [],
      "source": [
        "full_group['active_user'] = np.isin(full_group['id'], active_studs)"
      ]
    },
    {
      "cell_type": "code",
      "execution_count": null,
      "metadata": {
        "id": "K_6fPXnYl6hx"
      },
      "outputs": [],
      "source": [
        "# Необходимо присоединить доход к основному ДФ\n",
        "full_df = pd.merge(full_group, checks, on='id', how='left')\n",
        "full_df['rev'] = full_df['rev'].fillna(0) # Заменил NaN нулями"
      ]
    },
    {
      "cell_type": "code",
      "execution_count": null,
      "metadata": {
        "raw_mimetype": "text/x-python",
        "id": "ClptwAvml6hy",
        "outputId": "6f82f5d7-0e89-4648-e64a-6c02cdf54661"
      },
      "outputs": [
        {
          "data": {
            "text/html": [
              "<div>\n",
              "<style scoped>\n",
              "    .dataframe tbody tr th:only-of-type {\n",
              "        vertical-align: middle;\n",
              "    }\n",
              "\n",
              "    .dataframe tbody tr th {\n",
              "        vertical-align: top;\n",
              "    }\n",
              "\n",
              "    .dataframe thead th {\n",
              "        text-align: right;\n",
              "    }\n",
              "</style>\n",
              "<table border=\"1\" class=\"dataframe\">\n",
              "  <thead>\n",
              "    <tr style=\"text-align: right;\">\n",
              "      <th></th>\n",
              "      <th>id</th>\n",
              "      <th>grp</th>\n",
              "      <th>active_user</th>\n",
              "      <th>rev</th>\n",
              "    </tr>\n",
              "  </thead>\n",
              "  <tbody>\n",
              "    <tr>\n",
              "      <th>0</th>\n",
              "      <td>1489</td>\n",
              "      <td>B</td>\n",
              "      <td>False</td>\n",
              "      <td>0.0</td>\n",
              "    </tr>\n",
              "    <tr>\n",
              "      <th>1</th>\n",
              "      <td>1627</td>\n",
              "      <td>A</td>\n",
              "      <td>True</td>\n",
              "      <td>990.0</td>\n",
              "    </tr>\n",
              "    <tr>\n",
              "      <th>2</th>\n",
              "      <td>1768</td>\n",
              "      <td>B</td>\n",
              "      <td>False</td>\n",
              "      <td>0.0</td>\n",
              "    </tr>\n",
              "    <tr>\n",
              "      <th>3</th>\n",
              "      <td>1783</td>\n",
              "      <td>B</td>\n",
              "      <td>False</td>\n",
              "      <td>0.0</td>\n",
              "    </tr>\n",
              "    <tr>\n",
              "      <th>4</th>\n",
              "      <td>1794</td>\n",
              "      <td>A</td>\n",
              "      <td>False</td>\n",
              "      <td>0.0</td>\n",
              "    </tr>\n",
              "    <tr>\n",
              "      <th>...</th>\n",
              "      <td>...</td>\n",
              "      <td>...</td>\n",
              "      <td>...</td>\n",
              "      <td>...</td>\n",
              "    </tr>\n",
              "    <tr>\n",
              "      <th>74571</th>\n",
              "      <td>200247820</td>\n",
              "      <td>B</td>\n",
              "      <td>False</td>\n",
              "      <td>0.0</td>\n",
              "    </tr>\n",
              "    <tr>\n",
              "      <th>74572</th>\n",
              "      <td>201032527</td>\n",
              "      <td>B</td>\n",
              "      <td>False</td>\n",
              "      <td>0.0</td>\n",
              "    </tr>\n",
              "    <tr>\n",
              "      <th>74573</th>\n",
              "      <td>201067612</td>\n",
              "      <td>B</td>\n",
              "      <td>False</td>\n",
              "      <td>0.0</td>\n",
              "    </tr>\n",
              "    <tr>\n",
              "      <th>74574</th>\n",
              "      <td>201067653</td>\n",
              "      <td>B</td>\n",
              "      <td>False</td>\n",
              "      <td>0.0</td>\n",
              "    </tr>\n",
              "    <tr>\n",
              "      <th>74575</th>\n",
              "      <td>201067659</td>\n",
              "      <td>B</td>\n",
              "      <td>False</td>\n",
              "      <td>0.0</td>\n",
              "    </tr>\n",
              "  </tbody>\n",
              "</table>\n",
              "<p>74576 rows × 4 columns</p>\n",
              "</div>"
            ],
            "text/plain": [
              "              id grp  active_user    rev\n",
              "0           1489   B        False    0.0\n",
              "1           1627   A         True  990.0\n",
              "2           1768   B        False    0.0\n",
              "3           1783   B        False    0.0\n",
              "4           1794   A        False    0.0\n",
              "...          ...  ..          ...    ...\n",
              "74571  200247820   B        False    0.0\n",
              "74572  201032527   B        False    0.0\n",
              "74573  201067612   B        False    0.0\n",
              "74574  201067653   B        False    0.0\n",
              "74575  201067659   B        False    0.0\n",
              "\n",
              "[74576 rows x 4 columns]"
            ]
          },
          "execution_count": 15,
          "metadata": {},
          "output_type": "execute_result"
        }
      ],
      "source": [
        "full_df"
      ]
    },
    {
      "cell_type": "markdown",
      "metadata": {
        "id": "dMn83j3Al6hz"
      },
      "source": [
        "###  Кол-во пользователей, кто не вошел в приложение, но купил продукт"
      ]
    },
    {
      "cell_type": "code",
      "execution_count": null,
      "metadata": {
        "id": "D6RBQldvl6hz",
        "outputId": "e2fcad72-5895-46bc-bfbf-d8f9c4ee9d5d"
      },
      "outputs": [
        {
          "data": {
            "text/plain": [
              "149"
            ]
          },
          "execution_count": 16,
          "metadata": {},
          "output_type": "execute_result"
        }
      ],
      "source": [
        "full_df.query('active_user == False & rev > 0').id.count()\n",
        "# Скорее всего что:\n",
        "# до эксперимента пользователи купили товар, а их транзакция дошла только во время проведения эксперимента"
      ]
    },
    {
      "cell_type": "markdown",
      "metadata": {
        "id": "KnBL7OmZl6h0"
      },
      "source": [
        "####  Меняю статус пользователей"
      ]
    },
    {
      "cell_type": "code",
      "execution_count": null,
      "metadata": {
        "id": "SqQYlW3Xl6h0"
      },
      "outputs": [],
      "source": [
        "full_df['active_user'] = np.where(full_df['rev'] > 0,\n",
        "                                 True, full_df.active_user)"
      ]
    },
    {
      "cell_type": "code",
      "execution_count": null,
      "metadata": {
        "id": "HLunlnehl6h1"
      },
      "outputs": [],
      "source": []
    },
    {
      "cell_type": "markdown",
      "metadata": {
        "id": "M5YwBOd0l6h1"
      },
      "source": [
        "## 1 Вопрос. Метрики"
      ]
    },
    {
      "cell_type": "markdown",
      "metadata": {
        "id": "mL5CImwql6h2"
      },
      "source": [
        "#### Думаю, что можно выделить такие метрики:\n",
        "#####    1)Средний чек\n",
        "#####     2)Конверсия в покупку (купил/не купил)\n",
        "#####     3)ARPU\n",
        "#####     4)ARPPU"
      ]
    },
    {
      "cell_type": "markdown",
      "metadata": {
        "id": "bBXVxU-Pl6h2"
      },
      "source": [
        "### Средний чек на активного пользователя"
      ]
    },
    {
      "cell_type": "markdown",
      "metadata": {
        "id": "ir1PZROMl6h3"
      },
      "source": [
        "##### Почему активного? Потому что меня интересуют пользователи, которые участвуют в эксперементе"
      ]
    },
    {
      "cell_type": "code",
      "execution_count": null,
      "metadata": {
        "id": "FXtNnW1Dl6h3",
        "outputId": "1d8dd30c-f224-4ec9-98ba-6dc7a9b866bb"
      },
      "outputs": [
        {
          "data": {
            "text/html": [
              "<div>\n",
              "<style scoped>\n",
              "    .dataframe tbody tr th:only-of-type {\n",
              "        vertical-align: middle;\n",
              "    }\n",
              "\n",
              "    .dataframe tbody tr th {\n",
              "        vertical-align: top;\n",
              "    }\n",
              "\n",
              "    .dataframe thead th {\n",
              "        text-align: right;\n",
              "    }\n",
              "</style>\n",
              "<table border=\"1\" class=\"dataframe\">\n",
              "  <thead>\n",
              "    <tr style=\"text-align: right;\">\n",
              "      <th></th>\n",
              "      <th>id</th>\n",
              "      <th>grp</th>\n",
              "      <th>active_user</th>\n",
              "      <th>rev</th>\n",
              "    </tr>\n",
              "  </thead>\n",
              "  <tbody>\n",
              "    <tr>\n",
              "      <th>0</th>\n",
              "      <td>1489</td>\n",
              "      <td>B</td>\n",
              "      <td>False</td>\n",
              "      <td>0.0</td>\n",
              "    </tr>\n",
              "    <tr>\n",
              "      <th>1</th>\n",
              "      <td>1627</td>\n",
              "      <td>A</td>\n",
              "      <td>True</td>\n",
              "      <td>990.0</td>\n",
              "    </tr>\n",
              "    <tr>\n",
              "      <th>2</th>\n",
              "      <td>1768</td>\n",
              "      <td>B</td>\n",
              "      <td>False</td>\n",
              "      <td>0.0</td>\n",
              "    </tr>\n",
              "    <tr>\n",
              "      <th>3</th>\n",
              "      <td>1783</td>\n",
              "      <td>B</td>\n",
              "      <td>False</td>\n",
              "      <td>0.0</td>\n",
              "    </tr>\n",
              "    <tr>\n",
              "      <th>4</th>\n",
              "      <td>1794</td>\n",
              "      <td>A</td>\n",
              "      <td>False</td>\n",
              "      <td>0.0</td>\n",
              "    </tr>\n",
              "  </tbody>\n",
              "</table>\n",
              "</div>"
            ],
            "text/plain": [
              "     id grp  active_user    rev\n",
              "0  1489   B        False    0.0\n",
              "1  1627   A         True  990.0\n",
              "2  1768   B        False    0.0\n",
              "3  1783   B        False    0.0\n",
              "4  1794   A        False    0.0"
            ]
          },
          "execution_count": 18,
          "metadata": {},
          "output_type": "execute_result"
        }
      ],
      "source": [
        "full_df.head()"
      ]
    },
    {
      "cell_type": "code",
      "execution_count": null,
      "metadata": {
        "id": "J8i67yTrl6h4",
        "outputId": "50ed4215-fa08-4b22-a4c7-35d153b4493b"
      },
      "outputs": [
        {
          "data": {
            "text/html": [
              "<div>\n",
              "<style scoped>\n",
              "    .dataframe tbody tr th:only-of-type {\n",
              "        vertical-align: middle;\n",
              "    }\n",
              "\n",
              "    .dataframe tbody tr th {\n",
              "        vertical-align: top;\n",
              "    }\n",
              "\n",
              "    .dataframe thead th {\n",
              "        text-align: right;\n",
              "    }\n",
              "</style>\n",
              "<table border=\"1\" class=\"dataframe\">\n",
              "  <thead>\n",
              "    <tr style=\"text-align: right;\">\n",
              "      <th></th>\n",
              "      <th>grp</th>\n",
              "      <th>avg</th>\n",
              "    </tr>\n",
              "  </thead>\n",
              "  <tbody>\n",
              "    <tr>\n",
              "      <th>0</th>\n",
              "      <td>A</td>\n",
              "      <td>860.710280</td>\n",
              "    </tr>\n",
              "    <tr>\n",
              "      <th>1</th>\n",
              "      <td>B</td>\n",
              "      <td>1108.824893</td>\n",
              "    </tr>\n",
              "  </tbody>\n",
              "</table>\n",
              "</div>"
            ],
            "text/plain": [
              "  grp          avg\n",
              "0   A   860.710280\n",
              "1   B  1108.824893"
            ]
          },
          "execution_count": 19,
          "metadata": {},
          "output_type": "execute_result"
        }
      ],
      "source": [
        "avg_values = full_df.query('rev > 0').groupby('grp',as_index=False).agg({'rev':'mean'}). \\\n",
        "    rename(columns={'rev':'avg'})\n",
        "avg_values"
      ]
    },
    {
      "cell_type": "markdown",
      "metadata": {
        "id": "GcpeENFhl6iH"
      },
      "source": [
        "### Конверсия в покупку"
      ]
    },
    {
      "cell_type": "markdown",
      "metadata": {
        "id": "usXMO9S_l6iI"
      },
      "source": [
        "###### Нам нужно найти количество платящих user-ов и далее поделить на всех тех кто был активен в приложении"
      ]
    },
    {
      "cell_type": "code",
      "execution_count": null,
      "metadata": {
        "id": "DJLu_r0Zl6iI",
        "outputId": "31d03a86-e792-4995-dfc1-583f2ab7920c"
      },
      "outputs": [
        {
          "data": {
            "text/html": [
              "<div>\n",
              "<style scoped>\n",
              "    .dataframe tbody tr th:only-of-type {\n",
              "        vertical-align: middle;\n",
              "    }\n",
              "\n",
              "    .dataframe tbody tr th {\n",
              "        vertical-align: top;\n",
              "    }\n",
              "\n",
              "    .dataframe thead th {\n",
              "        text-align: right;\n",
              "    }\n",
              "</style>\n",
              "<table border=\"1\" class=\"dataframe\">\n",
              "  <thead>\n",
              "    <tr style=\"text-align: right;\">\n",
              "      <th></th>\n",
              "      <th>grp</th>\n",
              "      <th>id</th>\n",
              "    </tr>\n",
              "  </thead>\n",
              "  <tbody>\n",
              "    <tr>\n",
              "      <th>0</th>\n",
              "      <td>A</td>\n",
              "      <td>107</td>\n",
              "    </tr>\n",
              "    <tr>\n",
              "      <th>1</th>\n",
              "      <td>B</td>\n",
              "      <td>434</td>\n",
              "    </tr>\n",
              "  </tbody>\n",
              "</table>\n",
              "</div>"
            ],
            "text/plain": [
              "  grp   id\n",
              "0   A  107\n",
              "1   B  434"
            ]
          },
          "execution_count": 20,
          "metadata": {},
          "output_type": "execute_result"
        }
      ],
      "source": [
        "target_action = full_df.query('rev > 0').groupby('grp', as_index=False)[['id']].count()\n",
        "\n",
        "target_action"
      ]
    },
    {
      "cell_type": "code",
      "execution_count": null,
      "metadata": {
        "id": "gQDnYKBTl6iJ",
        "outputId": "6275ce12-5f4a-41bf-d137-5904db23f801"
      },
      "outputs": [
        {
          "data": {
            "text/plain": [
              "8490"
            ]
          },
          "execution_count": 21,
          "metadata": {},
          "output_type": "execute_result"
        }
      ],
      "source": [
        "pool_users = full_df.query('active_user == True')['id'].count()\n",
        "pool_users"
      ]
    },
    {
      "cell_type": "code",
      "execution_count": null,
      "metadata": {
        "scrolled": true,
        "id": "N-qMzsBGl6iK",
        "outputId": "80ccf0ba-0e7d-427c-8d3f-51df6e043865"
      },
      "outputs": [
        {
          "data": {
            "text/html": [
              "<div>\n",
              "<style scoped>\n",
              "    .dataframe tbody tr th:only-of-type {\n",
              "        vertical-align: middle;\n",
              "    }\n",
              "\n",
              "    .dataframe tbody tr th {\n",
              "        vertical-align: top;\n",
              "    }\n",
              "\n",
              "    .dataframe thead th {\n",
              "        text-align: right;\n",
              "    }\n",
              "</style>\n",
              "<table border=\"1\" class=\"dataframe\">\n",
              "  <thead>\n",
              "    <tr style=\"text-align: right;\">\n",
              "      <th></th>\n",
              "      <th>grp</th>\n",
              "      <th>conversion</th>\n",
              "    </tr>\n",
              "  </thead>\n",
              "  <tbody>\n",
              "    <tr>\n",
              "      <th>0</th>\n",
              "      <td>A</td>\n",
              "      <td>1.260306</td>\n",
              "    </tr>\n",
              "    <tr>\n",
              "      <th>1</th>\n",
              "      <td>B</td>\n",
              "      <td>5.111896</td>\n",
              "    </tr>\n",
              "  </tbody>\n",
              "</table>\n",
              "</div>"
            ],
            "text/plain": [
              "  grp  conversion\n",
              "0   A    1.260306\n",
              "1   B    5.111896"
            ]
          },
          "execution_count": 22,
          "metadata": {},
          "output_type": "execute_result"
        }
      ],
      "source": [
        "conversion = ((target_action[['id']] / pool_users) * 100).rename(columns={'id':'conversion'},) \\\n",
        "    .set_index(target_action['grp']).reset_index()\n",
        "conversion"
      ]
    },
    {
      "cell_type": "code",
      "execution_count": null,
      "metadata": {
        "id": "0CPW03BMl6iK",
        "outputId": "908776e7-f7d7-4175-b679-efe89431856f"
      },
      "outputs": [
        {
          "name": "stdout",
          "output_type": "stream",
          "text": [
            "1.26 %\n",
            "5.11 %\n"
          ]
        }
      ],
      "source": [
        "for i in conversion.conversion:\n",
        "    print(f'{round(i,2)} %')"
      ]
    },
    {
      "cell_type": "markdown",
      "metadata": {
        "id": "Hru2SrgPl6iL"
      },
      "source": [
        "### ARPU"
      ]
    },
    {
      "cell_type": "markdown",
      "metadata": {
        "id": "yTIJ5Bykl6iM"
      },
      "source": [
        "###### Доход в каждой группе  / Число активных пользователей"
      ]
    },
    {
      "cell_type": "code",
      "execution_count": null,
      "metadata": {
        "id": "z7pFL1iBl6iM",
        "outputId": "a6f0918e-eada-4b45-9f50-430f731aebf5"
      },
      "outputs": [
        {
          "data": {
            "text/html": [
              "<div>\n",
              "<style scoped>\n",
              "    .dataframe tbody tr th:only-of-type {\n",
              "        vertical-align: middle;\n",
              "    }\n",
              "\n",
              "    .dataframe tbody tr th {\n",
              "        vertical-align: top;\n",
              "    }\n",
              "\n",
              "    .dataframe thead th {\n",
              "        text-align: right;\n",
              "    }\n",
              "</style>\n",
              "<table border=\"1\" class=\"dataframe\">\n",
              "  <thead>\n",
              "    <tr style=\"text-align: right;\">\n",
              "      <th></th>\n",
              "      <th>grp</th>\n",
              "      <th>num_users</th>\n",
              "      <th>rev</th>\n",
              "    </tr>\n",
              "  </thead>\n",
              "  <tbody>\n",
              "    <tr>\n",
              "      <th>0</th>\n",
              "      <td>A</td>\n",
              "      <td>1567</td>\n",
              "      <td>92096.0</td>\n",
              "    </tr>\n",
              "    <tr>\n",
              "      <th>1</th>\n",
              "      <td>B</td>\n",
              "      <td>6923</td>\n",
              "      <td>481230.0</td>\n",
              "    </tr>\n",
              "  </tbody>\n",
              "</table>\n",
              "</div>"
            ],
            "text/plain": [
              "  grp  num_users       rev\n",
              "0   A       1567   92096.0\n",
              "1   B       6923  481230.0"
            ]
          },
          "execution_count": 24,
          "metadata": {},
          "output_type": "execute_result"
        }
      ],
      "source": [
        "arpu_sum_rev_grp = full_df.query('active_user == True') \\\n",
        "    .groupby('grp',as_index=False).agg({'id':'count', 'rev':'sum'}) \\\n",
        "    .rename(columns={'id':'num_users'}).round()\n",
        "arpu_sum_rev_grp"
      ]
    },
    {
      "cell_type": "code",
      "execution_count": null,
      "metadata": {
        "id": "tJKzkseAl6iN",
        "outputId": "28ff785e-e7b6-41da-a1ad-1b5cc0dffc34"
      },
      "outputs": [
        {
          "data": {
            "text/html": [
              "<div>\n",
              "<style scoped>\n",
              "    .dataframe tbody tr th:only-of-type {\n",
              "        vertical-align: middle;\n",
              "    }\n",
              "\n",
              "    .dataframe tbody tr th {\n",
              "        vertical-align: top;\n",
              "    }\n",
              "\n",
              "    .dataframe thead th {\n",
              "        text-align: right;\n",
              "    }\n",
              "</style>\n",
              "<table border=\"1\" class=\"dataframe\">\n",
              "  <thead>\n",
              "    <tr style=\"text-align: right;\">\n",
              "      <th></th>\n",
              "      <th>grp</th>\n",
              "      <th>ARPU</th>\n",
              "    </tr>\n",
              "  </thead>\n",
              "  <tbody>\n",
              "    <tr>\n",
              "      <th>0</th>\n",
              "      <td>A</td>\n",
              "      <td>58.8</td>\n",
              "    </tr>\n",
              "    <tr>\n",
              "      <th>1</th>\n",
              "      <td>B</td>\n",
              "      <td>69.5</td>\n",
              "    </tr>\n",
              "  </tbody>\n",
              "</table>\n",
              "</div>"
            ],
            "text/plain": [
              "  grp  ARPU\n",
              "0   A  58.8\n",
              "1   B  69.5"
            ]
          },
          "execution_count": 25,
          "metadata": {},
          "output_type": "execute_result"
        }
      ],
      "source": [
        "arpu_sum_rev_grp['ARPU'] = round(arpu_sum_rev_grp['rev'] / arpu_sum_rev_grp['num_users'],1)\n",
        "ARPU = arpu_sum_rev_grp[['grp', 'ARPU']]\n",
        "ARPU"
      ]
    },
    {
      "cell_type": "markdown",
      "metadata": {
        "id": "lWNPmG2Ql6iN"
      },
      "source": [
        "## Вопрос 2. Различия в показателях"
      ]
    },
    {
      "cell_type": "markdown",
      "metadata": {
        "id": "v0beQ4U_l6iO"
      },
      "source": [
        "###### Теперь давайте посмотрим на все показатели"
      ]
    },
    {
      "cell_type": "code",
      "execution_count": null,
      "metadata": {
        "id": "cC6fj7Qal6iO"
      },
      "outputs": [],
      "source": [
        "def display_side_by_side(dfs:list, captions:list):\n",
        "    output = \"\"\n",
        "    combined = dict(zip(captions, dfs))\n",
        "    for caption, df in combined.items():\n",
        "        output += df.style.set_table_attributes(\"style='display:inline'\").set_caption(caption)._repr_html_()\n",
        "        output += \"\\xa0\\xa0\\xa0\"\n",
        "    display(HTML(output))"
      ]
    },
    {
      "cell_type": "code",
      "execution_count": null,
      "metadata": {
        "id": "1H71Qns3l6iP"
      },
      "outputs": [],
      "source": [
        "amount_active_users = full_df.query('active_user == True').groupby('grp', as_index=False)[['id']].count()"
      ]
    },
    {
      "cell_type": "code",
      "execution_count": null,
      "metadata": {
        "scrolled": true,
        "id": "DKBDWPocl6iQ",
        "outputId": "4c184567-5725-44cd-8bfa-7589d8ad9524"
      },
      "outputs": [
        {
          "data": {
            "text/html": [
              "<style  type=\"text/css\" >\n",
              "</style><table id=\"T_1fe0f4f2_37f0_11ee_bdbb_96000040dfb6\" style='display:inline'><caption>conversion</caption><thead>    <tr>        <th class=\"blank level0\" ></th>        <th class=\"col_heading level0 col0\" >grp</th>        <th class=\"col_heading level0 col1\" >conversion</th>    </tr></thead><tbody>\n",
              "                <tr>\n",
              "                        <th id=\"T_1fe0f4f2_37f0_11ee_bdbb_96000040dfb6level0_row0\" class=\"row_heading level0 row0\" >0</th>\n",
              "                        <td id=\"T_1fe0f4f2_37f0_11ee_bdbb_96000040dfb6row0_col0\" class=\"data row0 col0\" >A</td>\n",
              "                        <td id=\"T_1fe0f4f2_37f0_11ee_bdbb_96000040dfb6row0_col1\" class=\"data row0 col1\" >1.260306</td>\n",
              "            </tr>\n",
              "            <tr>\n",
              "                        <th id=\"T_1fe0f4f2_37f0_11ee_bdbb_96000040dfb6level0_row1\" class=\"row_heading level0 row1\" >1</th>\n",
              "                        <td id=\"T_1fe0f4f2_37f0_11ee_bdbb_96000040dfb6row1_col0\" class=\"data row1 col0\" >B</td>\n",
              "                        <td id=\"T_1fe0f4f2_37f0_11ee_bdbb_96000040dfb6row1_col1\" class=\"data row1 col1\" >5.111896</td>\n",
              "            </tr>\n",
              "    </tbody></table>   <style  type=\"text/css\" >\n",
              "</style><table id=\"T_1fe0f4f3_37f0_11ee_bdbb_96000040dfb6\" style='display:inline'><caption>avg_values</caption><thead>    <tr>        <th class=\"blank level0\" ></th>        <th class=\"col_heading level0 col0\" >grp</th>        <th class=\"col_heading level0 col1\" >avg</th>    </tr></thead><tbody>\n",
              "                <tr>\n",
              "                        <th id=\"T_1fe0f4f3_37f0_11ee_bdbb_96000040dfb6level0_row0\" class=\"row_heading level0 row0\" >0</th>\n",
              "                        <td id=\"T_1fe0f4f3_37f0_11ee_bdbb_96000040dfb6row0_col0\" class=\"data row0 col0\" >A</td>\n",
              "                        <td id=\"T_1fe0f4f3_37f0_11ee_bdbb_96000040dfb6row0_col1\" class=\"data row0 col1\" >860.710280</td>\n",
              "            </tr>\n",
              "            <tr>\n",
              "                        <th id=\"T_1fe0f4f3_37f0_11ee_bdbb_96000040dfb6level0_row1\" class=\"row_heading level0 row1\" >1</th>\n",
              "                        <td id=\"T_1fe0f4f3_37f0_11ee_bdbb_96000040dfb6row1_col0\" class=\"data row1 col0\" >B</td>\n",
              "                        <td id=\"T_1fe0f4f3_37f0_11ee_bdbb_96000040dfb6row1_col1\" class=\"data row1 col1\" >1108.824893</td>\n",
              "            </tr>\n",
              "    </tbody></table>   <style  type=\"text/css\" >\n",
              "</style><table id=\"T_1fe0f4f4_37f0_11ee_bdbb_96000040dfb6\" style='display:inline'><caption>ARPU</caption><thead>    <tr>        <th class=\"blank level0\" ></th>        <th class=\"col_heading level0 col0\" >grp</th>        <th class=\"col_heading level0 col1\" >num_users</th>        <th class=\"col_heading level0 col2\" >rev</th>        <th class=\"col_heading level0 col3\" >ARPU</th>    </tr></thead><tbody>\n",
              "                <tr>\n",
              "                        <th id=\"T_1fe0f4f4_37f0_11ee_bdbb_96000040dfb6level0_row0\" class=\"row_heading level0 row0\" >0</th>\n",
              "                        <td id=\"T_1fe0f4f4_37f0_11ee_bdbb_96000040dfb6row0_col0\" class=\"data row0 col0\" >A</td>\n",
              "                        <td id=\"T_1fe0f4f4_37f0_11ee_bdbb_96000040dfb6row0_col1\" class=\"data row0 col1\" >1567</td>\n",
              "                        <td id=\"T_1fe0f4f4_37f0_11ee_bdbb_96000040dfb6row0_col2\" class=\"data row0 col2\" >92096.000000</td>\n",
              "                        <td id=\"T_1fe0f4f4_37f0_11ee_bdbb_96000040dfb6row0_col3\" class=\"data row0 col3\" >58.800000</td>\n",
              "            </tr>\n",
              "            <tr>\n",
              "                        <th id=\"T_1fe0f4f4_37f0_11ee_bdbb_96000040dfb6level0_row1\" class=\"row_heading level0 row1\" >1</th>\n",
              "                        <td id=\"T_1fe0f4f4_37f0_11ee_bdbb_96000040dfb6row1_col0\" class=\"data row1 col0\" >B</td>\n",
              "                        <td id=\"T_1fe0f4f4_37f0_11ee_bdbb_96000040dfb6row1_col1\" class=\"data row1 col1\" >6923</td>\n",
              "                        <td id=\"T_1fe0f4f4_37f0_11ee_bdbb_96000040dfb6row1_col2\" class=\"data row1 col2\" >481230.000000</td>\n",
              "                        <td id=\"T_1fe0f4f4_37f0_11ee_bdbb_96000040dfb6row1_col3\" class=\"data row1 col3\" >69.500000</td>\n",
              "            </tr>\n",
              "    </tbody></table>   <style  type=\"text/css\" >\n",
              "</style><table id=\"T_1fe0f4f5_37f0_11ee_bdbb_96000040dfb6\" style='display:inline'><caption>amount_active_users</caption><thead>    <tr>        <th class=\"blank level0\" ></th>        <th class=\"col_heading level0 col0\" >grp</th>        <th class=\"col_heading level0 col1\" >id</th>    </tr></thead><tbody>\n",
              "                <tr>\n",
              "                        <th id=\"T_1fe0f4f5_37f0_11ee_bdbb_96000040dfb6level0_row0\" class=\"row_heading level0 row0\" >0</th>\n",
              "                        <td id=\"T_1fe0f4f5_37f0_11ee_bdbb_96000040dfb6row0_col0\" class=\"data row0 col0\" >A</td>\n",
              "                        <td id=\"T_1fe0f4f5_37f0_11ee_bdbb_96000040dfb6row0_col1\" class=\"data row0 col1\" >1567</td>\n",
              "            </tr>\n",
              "            <tr>\n",
              "                        <th id=\"T_1fe0f4f5_37f0_11ee_bdbb_96000040dfb6level0_row1\" class=\"row_heading level0 row1\" >1</th>\n",
              "                        <td id=\"T_1fe0f4f5_37f0_11ee_bdbb_96000040dfb6row1_col0\" class=\"data row1 col0\" >B</td>\n",
              "                        <td id=\"T_1fe0f4f5_37f0_11ee_bdbb_96000040dfb6row1_col1\" class=\"data row1 col1\" >6923</td>\n",
              "            </tr>\n",
              "    </tbody></table>   "
            ],
            "text/plain": [
              "<IPython.core.display.HTML object>"
            ]
          },
          "metadata": {},
          "output_type": "display_data"
        }
      ],
      "source": [
        "display_side_by_side([conversion, avg_values, arpu_sum_rev_grp, amount_active_users],\n",
        "                     ['conversion', 'avg_values', 'ARPU', 'amount_active_users'])"
      ]
    },
    {
      "cell_type": "markdown",
      "metadata": {
        "id": "sq2apiKkl6iQ"
      },
      "source": [
        "## ----------------------------------------------------------------------------------------------------------------------------------"
      ]
    },
    {
      "cell_type": "markdown",
      "metadata": {
        "id": "-0rm7D7bl6iR"
      },
      "source": [
        "## Вопрос 3. Доказательство статистически значимых различий и проведение a/b тестов"
      ]
    },
    {
      "cell_type": "markdown",
      "metadata": {
        "id": "ylxAehyLl6iR"
      },
      "source": [
        "###### Делю на тестовую и контрольные группы на всех активных пользователей"
      ]
    },
    {
      "cell_type": "code",
      "execution_count": null,
      "metadata": {
        "id": "9Wf1yqrgl6iS"
      },
      "outputs": [],
      "source": [
        "control_users = full_df.query('active_user == True & grp == \"A\"')"
      ]
    },
    {
      "cell_type": "code",
      "execution_count": null,
      "metadata": {
        "id": "_NWxDXIpl6iS"
      },
      "outputs": [],
      "source": [
        "test_users = full_df.query('active_user == True & grp == \"B\"')"
      ]
    },
    {
      "cell_type": "code",
      "execution_count": null,
      "metadata": {
        "id": "KuGgXflAl6iT",
        "outputId": "8e8e48b8-92ab-4d40-c60a-22657363c292"
      },
      "outputs": [
        {
          "data": {
            "text/html": [
              "<div>\n",
              "<style scoped>\n",
              "    .dataframe tbody tr th:only-of-type {\n",
              "        vertical-align: middle;\n",
              "    }\n",
              "\n",
              "    .dataframe tbody tr th {\n",
              "        vertical-align: top;\n",
              "    }\n",
              "\n",
              "    .dataframe thead th {\n",
              "        text-align: right;\n",
              "    }\n",
              "</style>\n",
              "<table border=\"1\" class=\"dataframe\">\n",
              "  <thead>\n",
              "    <tr style=\"text-align: right;\">\n",
              "      <th></th>\n",
              "      <th>id</th>\n",
              "      <th>grp</th>\n",
              "      <th>active_user</th>\n",
              "      <th>rev</th>\n",
              "    </tr>\n",
              "  </thead>\n",
              "  <tbody>\n",
              "    <tr>\n",
              "      <th>1</th>\n",
              "      <td>1627</td>\n",
              "      <td>A</td>\n",
              "      <td>True</td>\n",
              "      <td>990.0</td>\n",
              "    </tr>\n",
              "    <tr>\n",
              "      <th>43</th>\n",
              "      <td>3391</td>\n",
              "      <td>A</td>\n",
              "      <td>True</td>\n",
              "      <td>0.0</td>\n",
              "    </tr>\n",
              "    <tr>\n",
              "      <th>331</th>\n",
              "      <td>109623</td>\n",
              "      <td>A</td>\n",
              "      <td>True</td>\n",
              "      <td>0.0</td>\n",
              "    </tr>\n",
              "    <tr>\n",
              "      <th>406</th>\n",
              "      <td>114366</td>\n",
              "      <td>A</td>\n",
              "      <td>True</td>\n",
              "      <td>690.0</td>\n",
              "    </tr>\n",
              "    <tr>\n",
              "      <th>614</th>\n",
              "      <td>133678</td>\n",
              "      <td>A</td>\n",
              "      <td>True</td>\n",
              "      <td>0.0</td>\n",
              "    </tr>\n",
              "    <tr>\n",
              "      <th>...</th>\n",
              "      <td>...</td>\n",
              "      <td>...</td>\n",
              "      <td>...</td>\n",
              "      <td>...</td>\n",
              "    </tr>\n",
              "    <tr>\n",
              "      <th>74416</th>\n",
              "      <td>5668989</td>\n",
              "      <td>A</td>\n",
              "      <td>True</td>\n",
              "      <td>0.0</td>\n",
              "    </tr>\n",
              "    <tr>\n",
              "      <th>74469</th>\n",
              "      <td>5690284</td>\n",
              "      <td>A</td>\n",
              "      <td>True</td>\n",
              "      <td>0.0</td>\n",
              "    </tr>\n",
              "    <tr>\n",
              "      <th>74523</th>\n",
              "      <td>5723133</td>\n",
              "      <td>A</td>\n",
              "      <td>True</td>\n",
              "      <td>0.0</td>\n",
              "    </tr>\n",
              "    <tr>\n",
              "      <th>74528</th>\n",
              "      <td>5729371</td>\n",
              "      <td>A</td>\n",
              "      <td>True</td>\n",
              "      <td>0.0</td>\n",
              "    </tr>\n",
              "    <tr>\n",
              "      <th>74558</th>\n",
              "      <td>5870856</td>\n",
              "      <td>A</td>\n",
              "      <td>True</td>\n",
              "      <td>0.0</td>\n",
              "    </tr>\n",
              "  </tbody>\n",
              "</table>\n",
              "<p>1567 rows × 4 columns</p>\n",
              "</div>"
            ],
            "text/plain": [
              "            id grp  active_user    rev\n",
              "1         1627   A         True  990.0\n",
              "43        3391   A         True    0.0\n",
              "331     109623   A         True    0.0\n",
              "406     114366   A         True  690.0\n",
              "614     133678   A         True    0.0\n",
              "...        ...  ..          ...    ...\n",
              "74416  5668989   A         True    0.0\n",
              "74469  5690284   A         True    0.0\n",
              "74523  5723133   A         True    0.0\n",
              "74528  5729371   A         True    0.0\n",
              "74558  5870856   A         True    0.0\n",
              "\n",
              "[1567 rows x 4 columns]"
            ]
          },
          "metadata": {},
          "output_type": "display_data"
        },
        {
          "data": {
            "text/html": [
              "<div>\n",
              "<style scoped>\n",
              "    .dataframe tbody tr th:only-of-type {\n",
              "        vertical-align: middle;\n",
              "    }\n",
              "\n",
              "    .dataframe tbody tr th {\n",
              "        vertical-align: top;\n",
              "    }\n",
              "\n",
              "    .dataframe thead th {\n",
              "        text-align: right;\n",
              "    }\n",
              "</style>\n",
              "<table border=\"1\" class=\"dataframe\">\n",
              "  <thead>\n",
              "    <tr style=\"text-align: right;\">\n",
              "      <th></th>\n",
              "      <th>id</th>\n",
              "      <th>grp</th>\n",
              "      <th>active_user</th>\n",
              "      <th>rev</th>\n",
              "    </tr>\n",
              "  </thead>\n",
              "  <tbody>\n",
              "    <tr>\n",
              "      <th>10</th>\n",
              "      <td>2085</td>\n",
              "      <td>B</td>\n",
              "      <td>True</td>\n",
              "      <td>0.0</td>\n",
              "    </tr>\n",
              "    <tr>\n",
              "      <th>12</th>\n",
              "      <td>2215</td>\n",
              "      <td>B</td>\n",
              "      <td>True</td>\n",
              "      <td>0.0</td>\n",
              "    </tr>\n",
              "    <tr>\n",
              "      <th>39</th>\n",
              "      <td>3185</td>\n",
              "      <td>B</td>\n",
              "      <td>True</td>\n",
              "      <td>690.0</td>\n",
              "    </tr>\n",
              "    <tr>\n",
              "      <th>45</th>\n",
              "      <td>3401</td>\n",
              "      <td>B</td>\n",
              "      <td>True</td>\n",
              "      <td>0.0</td>\n",
              "    </tr>\n",
              "    <tr>\n",
              "      <th>112</th>\n",
              "      <td>22994</td>\n",
              "      <td>B</td>\n",
              "      <td>True</td>\n",
              "      <td>0.0</td>\n",
              "    </tr>\n",
              "    <tr>\n",
              "      <th>...</th>\n",
              "      <td>...</td>\n",
              "      <td>...</td>\n",
              "      <td>...</td>\n",
              "      <td>...</td>\n",
              "    </tr>\n",
              "    <tr>\n",
              "      <th>74539</th>\n",
              "      <td>5740903</td>\n",
              "      <td>B</td>\n",
              "      <td>True</td>\n",
              "      <td>1900.0</td>\n",
              "    </tr>\n",
              "    <tr>\n",
              "      <th>74543</th>\n",
              "      <td>5760471</td>\n",
              "      <td>B</td>\n",
              "      <td>True</td>\n",
              "      <td>0.0</td>\n",
              "    </tr>\n",
              "    <tr>\n",
              "      <th>74545</th>\n",
              "      <td>5777081</td>\n",
              "      <td>B</td>\n",
              "      <td>True</td>\n",
              "      <td>0.0</td>\n",
              "    </tr>\n",
              "    <tr>\n",
              "      <th>74561</th>\n",
              "      <td>5945085</td>\n",
              "      <td>B</td>\n",
              "      <td>True</td>\n",
              "      <td>0.0</td>\n",
              "    </tr>\n",
              "    <tr>\n",
              "      <th>74562</th>\n",
              "      <td>5951797</td>\n",
              "      <td>B</td>\n",
              "      <td>True</td>\n",
              "      <td>0.0</td>\n",
              "    </tr>\n",
              "  </tbody>\n",
              "</table>\n",
              "<p>6923 rows × 4 columns</p>\n",
              "</div>"
            ],
            "text/plain": [
              "            id grp  active_user     rev\n",
              "10        2085   B         True     0.0\n",
              "12        2215   B         True     0.0\n",
              "39        3185   B         True   690.0\n",
              "45        3401   B         True     0.0\n",
              "112      22994   B         True     0.0\n",
              "...        ...  ..          ...     ...\n",
              "74539  5740903   B         True  1900.0\n",
              "74543  5760471   B         True     0.0\n",
              "74545  5777081   B         True     0.0\n",
              "74561  5945085   B         True     0.0\n",
              "74562  5951797   B         True     0.0\n",
              "\n",
              "[6923 rows x 4 columns]"
            ]
          },
          "metadata": {},
          "output_type": "display_data"
        }
      ],
      "source": [
        "display(control_users, test_users)"
      ]
    },
    {
      "cell_type": "code",
      "execution_count": null,
      "metadata": {
        "id": "PsYo17dVl6iU",
        "outputId": "10231567-d80a-45b0-e826-022d913f836e"
      },
      "outputs": [
        {
          "data": {
            "image/png": "[encoded data removed]",
            "text/plain": [
              "<Figure size 432x288 with 2 Axes>"
            ]
          },
          "metadata": {
            "needs_background": "light"
          },
          "output_type": "display_data"
        }
      ],
      "source": [
        "plt.subplot(1, 2, 1)\n",
        "sns.histplot(test_users['rev'])\n",
        "plt.xlabel('test')\n",
        "\n",
        "plt.subplot(1, 2, 2)\n",
        "sns.histplot(control_users['rev'])\n",
        "plt.xlabel('control')\n",
        "plt.tight_layout(rect=(0,0,2,1)) # Как мы можем видеть, что распределения не похожи на нормальные"
      ]
    },
    {
      "cell_type": "markdown",
      "metadata": {
        "id": "_L-LzeLKl6iU"
      },
      "source": [
        "##### Давайте удостоверимся и построим qqplot"
      ]
    },
    {
      "cell_type": "code",
      "execution_count": null,
      "metadata": {
        "id": "rm2_zaqll6iV",
        "outputId": "75f5862e-cd67-4283-e402-6af12932d888"
      },
      "outputs": [
        {
          "data": {
            "image/png": "[encoded data removed]",
            "text/plain": [
              "<Figure size 360x288 with 1 Axes>"
            ]
          },
          "metadata": {
            "needs_background": "light"
          },
          "output_type": "display_data"
        },
        {
          "data": {
            "image/png": "[encoded data removed]",
            "text/plain": [
              "<Figure size 360x288 with 1 Axes>"
            ]
          },
          "metadata": {
            "needs_background": "light"
          },
          "output_type": "display_data"
        }
      ],
      "source": [
        "pg.qqplot(test_users['rev'])\n",
        "plt.xlabel('test')\n",
        "plt.tight_layout(pad=0)\n",
        "pg.qqplot(control_users['rev'])\n",
        "plt.xlabel('control')\n",
        "plt.tight_layout(pad=0) # Здесь мы можем уже удостовериться"
      ]
    },
    {
      "cell_type": "markdown",
      "metadata": {
        "id": "ItaI-v0Wl6iW"
      },
      "source": [
        "###### Как мы можем наблюдать, что распределение дохода на всех активных пользователей далеко ненормальное\n",
        "###### Это и верно, так как у нас много пользователей, а клиентов на порядок меньше"
      ]
    },
    {
      "cell_type": "markdown",
      "metadata": {
        "id": "KahM6EHtl6iW"
      },
      "source": [
        "# ---------------------------------------------------------------------------------------------------------------"
      ]
    },
    {
      "cell_type": "markdown",
      "metadata": {
        "id": "xmk2_GEvl6iX"
      },
      "source": [
        "###### Что ж, давайте теперь посмотрим все тоже самое, только для клиентов"
      ]
    },
    {
      "cell_type": "code",
      "execution_count": null,
      "metadata": {
        "id": "w2oa3cOWl6iX"
      },
      "outputs": [],
      "source": [
        "control_client = full_df.query('active_user == True & grp == \"A\" & rev > 0')"
      ]
    },
    {
      "cell_type": "code",
      "execution_count": null,
      "metadata": {
        "id": "Vs5qSK-9l6iY"
      },
      "outputs": [],
      "source": [
        "test_client = full_df.query('active_user == True & grp == \"B\" & rev > 0')"
      ]
    },
    {
      "cell_type": "code",
      "execution_count": null,
      "metadata": {
        "scrolled": false,
        "id": "kzCuyjlgl6iY",
        "outputId": "a56dcad4-01c7-4ce8-b5bc-8e00b2922c15"
      },
      "outputs": [
        {
          "data": {
            "text/html": [
              "<div>\n",
              "<style scoped>\n",
              "    .dataframe tbody tr th:only-of-type {\n",
              "        vertical-align: middle;\n",
              "    }\n",
              "\n",
              "    .dataframe tbody tr th {\n",
              "        vertical-align: top;\n",
              "    }\n",
              "\n",
              "    .dataframe thead th {\n",
              "        text-align: right;\n",
              "    }\n",
              "</style>\n",
              "<table border=\"1\" class=\"dataframe\">\n",
              "  <thead>\n",
              "    <tr style=\"text-align: right;\">\n",
              "      <th></th>\n",
              "      <th>id</th>\n",
              "      <th>grp</th>\n",
              "      <th>active_user</th>\n",
              "      <th>rev</th>\n",
              "    </tr>\n",
              "  </thead>\n",
              "  <tbody>\n",
              "    <tr>\n",
              "      <th>1</th>\n",
              "      <td>1627</td>\n",
              "      <td>A</td>\n",
              "      <td>True</td>\n",
              "      <td>990.0</td>\n",
              "    </tr>\n",
              "    <tr>\n",
              "      <th>406</th>\n",
              "      <td>114366</td>\n",
              "      <td>A</td>\n",
              "      <td>True</td>\n",
              "      <td>690.0</td>\n",
              "    </tr>\n",
              "    <tr>\n",
              "      <th>2041</th>\n",
              "      <td>212994</td>\n",
              "      <td>A</td>\n",
              "      <td>True</td>\n",
              "      <td>690.0</td>\n",
              "    </tr>\n",
              "    <tr>\n",
              "      <th>2231</th>\n",
              "      <td>218393</td>\n",
              "      <td>A</td>\n",
              "      <td>True</td>\n",
              "      <td>690.0</td>\n",
              "    </tr>\n",
              "    <tr>\n",
              "      <th>2393</th>\n",
              "      <td>225541</td>\n",
              "      <td>A</td>\n",
              "      <td>True</td>\n",
              "      <td>690.0</td>\n",
              "    </tr>\n",
              "    <tr>\n",
              "      <th>...</th>\n",
              "      <td>...</td>\n",
              "      <td>...</td>\n",
              "      <td>...</td>\n",
              "      <td>...</td>\n",
              "    </tr>\n",
              "    <tr>\n",
              "      <th>73140</th>\n",
              "      <td>5394575</td>\n",
              "      <td>A</td>\n",
              "      <td>True</td>\n",
              "      <td>990.0</td>\n",
              "    </tr>\n",
              "    <tr>\n",
              "      <th>73966</th>\n",
              "      <td>5545563</td>\n",
              "      <td>A</td>\n",
              "      <td>True</td>\n",
              "      <td>1160.0</td>\n",
              "    </tr>\n",
              "    <tr>\n",
              "      <th>74022</th>\n",
              "      <td>5557468</td>\n",
              "      <td>A</td>\n",
              "      <td>True</td>\n",
              "      <td>290.0</td>\n",
              "    </tr>\n",
              "    <tr>\n",
              "      <th>74079</th>\n",
              "      <td>5567520</td>\n",
              "      <td>A</td>\n",
              "      <td>True</td>\n",
              "      <td>489.0</td>\n",
              "    </tr>\n",
              "    <tr>\n",
              "      <th>74118</th>\n",
              "      <td>5577840</td>\n",
              "      <td>A</td>\n",
              "      <td>True</td>\n",
              "      <td>590.0</td>\n",
              "    </tr>\n",
              "  </tbody>\n",
              "</table>\n",
              "<p>107 rows × 4 columns</p>\n",
              "</div>"
            ],
            "text/plain": [
              "            id grp  active_user     rev\n",
              "1         1627   A         True   990.0\n",
              "406     114366   A         True   690.0\n",
              "2041    212994   A         True   690.0\n",
              "2231    218393   A         True   690.0\n",
              "2393    225541   A         True   690.0\n",
              "...        ...  ..          ...     ...\n",
              "73140  5394575   A         True   990.0\n",
              "73966  5545563   A         True  1160.0\n",
              "74022  5557468   A         True   290.0\n",
              "74079  5567520   A         True   489.0\n",
              "74118  5577840   A         True   590.0\n",
              "\n",
              "[107 rows x 4 columns]"
            ]
          },
          "metadata": {},
          "output_type": "display_data"
        },
        {
          "data": {
            "text/html": [
              "<div>\n",
              "<style scoped>\n",
              "    .dataframe tbody tr th:only-of-type {\n",
              "        vertical-align: middle;\n",
              "    }\n",
              "\n",
              "    .dataframe tbody tr th {\n",
              "        vertical-align: top;\n",
              "    }\n",
              "\n",
              "    .dataframe thead th {\n",
              "        text-align: right;\n",
              "    }\n",
              "</style>\n",
              "<table border=\"1\" class=\"dataframe\">\n",
              "  <thead>\n",
              "    <tr style=\"text-align: right;\">\n",
              "      <th></th>\n",
              "      <th>id</th>\n",
              "      <th>grp</th>\n",
              "      <th>active_user</th>\n",
              "      <th>rev</th>\n",
              "    </tr>\n",
              "  </thead>\n",
              "  <tbody>\n",
              "    <tr>\n",
              "      <th>39</th>\n",
              "      <td>3185</td>\n",
              "      <td>B</td>\n",
              "      <td>True</td>\n",
              "      <td>690.0</td>\n",
              "    </tr>\n",
              "    <tr>\n",
              "      <th>121</th>\n",
              "      <td>25973</td>\n",
              "      <td>B</td>\n",
              "      <td>True</td>\n",
              "      <td>690.0</td>\n",
              "    </tr>\n",
              "    <tr>\n",
              "      <th>125</th>\n",
              "      <td>26280</td>\n",
              "      <td>B</td>\n",
              "      <td>True</td>\n",
              "      <td>690.0</td>\n",
              "    </tr>\n",
              "    <tr>\n",
              "      <th>220</th>\n",
              "      <td>100300</td>\n",
              "      <td>B</td>\n",
              "      <td>True</td>\n",
              "      <td>990.0</td>\n",
              "    </tr>\n",
              "    <tr>\n",
              "      <th>223</th>\n",
              "      <td>100645</td>\n",
              "      <td>B</td>\n",
              "      <td>True</td>\n",
              "      <td>630.0</td>\n",
              "    </tr>\n",
              "    <tr>\n",
              "      <th>...</th>\n",
              "      <td>...</td>\n",
              "      <td>...</td>\n",
              "      <td>...</td>\n",
              "      <td>...</td>\n",
              "    </tr>\n",
              "    <tr>\n",
              "      <th>74365</th>\n",
              "      <td>5645737</td>\n",
              "      <td>B</td>\n",
              "      <td>True</td>\n",
              "      <td>1900.0</td>\n",
              "    </tr>\n",
              "    <tr>\n",
              "      <th>74381</th>\n",
              "      <td>5651566</td>\n",
              "      <td>B</td>\n",
              "      <td>True</td>\n",
              "      <td>1900.0</td>\n",
              "    </tr>\n",
              "    <tr>\n",
              "      <th>74402</th>\n",
              "      <td>5662322</td>\n",
              "      <td>B</td>\n",
              "      <td>True</td>\n",
              "      <td>1900.0</td>\n",
              "    </tr>\n",
              "    <tr>\n",
              "      <th>74452</th>\n",
              "      <td>5681918</td>\n",
              "      <td>B</td>\n",
              "      <td>True</td>\n",
              "      <td>1900.0</td>\n",
              "    </tr>\n",
              "    <tr>\n",
              "      <th>74539</th>\n",
              "      <td>5740903</td>\n",
              "      <td>B</td>\n",
              "      <td>True</td>\n",
              "      <td>1900.0</td>\n",
              "    </tr>\n",
              "  </tbody>\n",
              "</table>\n",
              "<p>434 rows × 4 columns</p>\n",
              "</div>"
            ],
            "text/plain": [
              "            id grp  active_user     rev\n",
              "39        3185   B         True   690.0\n",
              "121      25973   B         True   690.0\n",
              "125      26280   B         True   690.0\n",
              "220     100300   B         True   990.0\n",
              "223     100645   B         True   630.0\n",
              "...        ...  ..          ...     ...\n",
              "74365  5645737   B         True  1900.0\n",
              "74381  5651566   B         True  1900.0\n",
              "74402  5662322   B         True  1900.0\n",
              "74452  5681918   B         True  1900.0\n",
              "74539  5740903   B         True  1900.0\n",
              "\n",
              "[434 rows x 4 columns]"
            ]
          },
          "metadata": {},
          "output_type": "display_data"
        }
      ],
      "source": [
        "display(control_client, test_client)"
      ]
    },
    {
      "cell_type": "code",
      "execution_count": null,
      "metadata": {
        "id": "xNnZUue1l6iZ",
        "outputId": "31eb9b8c-5627-495f-a2b7-95d145a2c3a6"
      },
      "outputs": [
        {
          "data": {
            "image/png": "[encoded data removed]",
            "text/plain": [
              "<Figure size 432x288 with 2 Axes>"
            ]
          },
          "metadata": {
            "needs_background": "light"
          },
          "output_type": "display_data"
        }
      ],
      "source": [
        "plt.subplot(1, 2, 1)\n",
        "sns.histplot(test_client['rev'])\n",
        "plt.xlabel('test')\n",
        "\n",
        "plt.subplot(1, 2, 2)\n",
        "sns.histplot(control_client['rev'])\n",
        "plt.xlabel('control')\n",
        "plt.tight_layout(rect=(0,0,2,1)) # И да, мы видим улучшения в распределении, но оно все еще далеко от нормального"
      ]
    },
    {
      "cell_type": "markdown",
      "metadata": {
        "id": "egieWs5jl6ia"
      },
      "source": [
        "###### Давайте прологарифмируем, с целью приблизить распределение к нормальному"
      ]
    },
    {
      "cell_type": "code",
      "execution_count": null,
      "metadata": {
        "id": "srSkHHLul6ia",
        "outputId": "c5053826-fa4a-4770-cae3-8df84248856e"
      },
      "outputs": [
        {
          "data": {
            "image/png": "[encoded data removed]",
            "text/plain": [
              "<Figure size 432x288 with 2 Axes>"
            ]
          },
          "metadata": {
            "needs_background": "light"
          },
          "output_type": "display_data"
        }
      ],
      "source": [
        "plt.subplot(1, 2, 1)\n",
        "sns.histplot(np.log(test_client['rev']), bins=20)\n",
        "plt.xlabel('test')\n",
        "\n",
        "plt.subplot(1, 2, 2)\n",
        "sns.histplot(np.log(control_client['rev']), bins=20)\n",
        "plt.xlabel('control')\n",
        "plt.tight_layout(rect=(0,0,2,1)) # Даже после логарифмирования наше распределение не похоже на норальное"
      ]
    },
    {
      "cell_type": "code",
      "execution_count": null,
      "metadata": {
        "scrolled": false,
        "id": "fZd7adv-l6ib",
        "outputId": "00be0f65-8409-4379-8f17-858f8ab742b5"
      },
      "outputs": [
        {
          "data": {
            "image/png": "[encoded data removed]",
            "text/plain": [
              "<Figure size 360x288 with 1 Axes>"
            ]
          },
          "metadata": {
            "needs_background": "light"
          },
          "output_type": "display_data"
        },
        {
          "data": {
            "image/png": "[encoded data removed]",
            "text/plain": [
              "<Figure size 360x288 with 1 Axes>"
            ]
          },
          "metadata": {
            "needs_background": "light"
          },
          "output_type": "display_data"
        }
      ],
      "source": [
        "pg.qqplot(np.log(test_client['rev']))\n",
        "plt.xlabel('test')\n",
        "plt.tight_layout(pad=0)\n",
        "pg.qqplot(np.log(control_client['rev']))\n",
        "plt.xlabel('control')\n",
        "plt.tight_layout(pad=0) # Тоже нет"
      ]
    },
    {
      "cell_type": "markdown",
      "metadata": {
        "id": "jaWmuXT3l6ic"
      },
      "source": [
        "## ----------------------------------------------------------------------------------------------------------------------------------"
      ]
    },
    {
      "cell_type": "markdown",
      "metadata": {
        "id": "bb5m2WJ-l6ic"
      },
      "source": [
        "# a/b тесты"
      ]
    },
    {
      "cell_type": "markdown",
      "metadata": {
        "id": "k2U6HKZPl6ic"
      },
      "source": [
        "## Средний чек"
      ]
    },
    {
      "cell_type": "markdown",
      "metadata": {
        "id": "tHWeEr0Sl6id"
      },
      "source": [
        "##### Построим график распределения среднего чека платящего пользователя"
      ]
    },
    {
      "cell_type": "code",
      "execution_count": null,
      "metadata": {
        "scrolled": false,
        "id": "cT7SU9dLl6id",
        "outputId": "8958fe78-086b-4c1f-a447-ceb8bc20bc33"
      },
      "outputs": [
        {
          "data": {
            "image/png": "[encoded data removed]",
            "text/plain": [
              "<Figure size 402.875x360 with 1 Axes>"
            ]
          },
          "metadata": {
            "needs_background": "light"
          },
          "output_type": "display_data"
        }
      ],
      "source": [
        "sns.displot(data=full_df.query('rev > 0'), x='rev', hue='grp')\n",
        "plt.tight_layout(pad=0)"
      ]
    },
    {
      "cell_type": "markdown",
      "metadata": {
        "id": "ikwOoo_4l6ie"
      },
      "source": [
        "Видим, что распределение ненормальное"
      ]
    },
    {
      "cell_type": "code",
      "execution_count": null,
      "metadata": {
        "id": "onNq5M3Dl6if",
        "outputId": "b7c2cb80-5322-4fe8-99ff-943377ceab35"
      },
      "outputs": [
        {
          "data": {
            "text/html": [
              "<div>\n",
              "<style scoped>\n",
              "    .dataframe tbody tr th:only-of-type {\n",
              "        vertical-align: middle;\n",
              "    }\n",
              "\n",
              "    .dataframe tbody tr th {\n",
              "        vertical-align: top;\n",
              "    }\n",
              "\n",
              "    .dataframe thead th {\n",
              "        text-align: right;\n",
              "    }\n",
              "</style>\n",
              "<table border=\"1\" class=\"dataframe\">\n",
              "  <thead>\n",
              "    <tr style=\"text-align: right;\">\n",
              "      <th></th>\n",
              "      <th>rev</th>\n",
              "    </tr>\n",
              "    <tr>\n",
              "      <th>grp</th>\n",
              "      <th></th>\n",
              "    </tr>\n",
              "  </thead>\n",
              "  <tbody>\n",
              "    <tr>\n",
              "      <th>A</th>\n",
              "      <td>860.710280</td>\n",
              "    </tr>\n",
              "    <tr>\n",
              "      <th>B</th>\n",
              "      <td>1108.824893</td>\n",
              "    </tr>\n",
              "  </tbody>\n",
              "</table>\n",
              "</div>"
            ],
            "text/plain": [
              "             rev\n",
              "grp             \n",
              "A     860.710280\n",
              "B    1108.824893"
            ]
          },
          "execution_count": 41,
          "metadata": {},
          "output_type": "execute_result"
        }
      ],
      "source": [
        "full_df.query('rev > 0').groupby('grp').agg({'rev':'mean'})"
      ]
    },
    {
      "cell_type": "code",
      "execution_count": null,
      "metadata": {
        "scrolled": false,
        "id": "EeOSsBeBl6if",
        "outputId": "5dac2864-a068-46f2-fb5b-26a0c6267edc"
      },
      "outputs": [
        {
          "data": {
            "text/plain": [
              "1108.8248930875575"
            ]
          },
          "execution_count": 42,
          "metadata": {},
          "output_type": "execute_result"
        }
      ],
      "source": [
        "full_df.query('rev > 0 & grp == \"B\"' )['rev'].mean()"
      ]
    },
    {
      "cell_type": "markdown",
      "metadata": {
        "id": "c_-jLDOUl6ig"
      },
      "source": [
        "### Гипотезы:\n",
        "####  H0: Средний чек не различается в двух группах\n",
        "####  H1:Средний чек  различаются в двух группах"
      ]
    },
    {
      "cell_type": "markdown",
      "metadata": {
        "id": "Z25YFjQCl6ig"
      },
      "source": [
        "Вместо классических тестов, мы будем использовать bootstrap, т.к. он не придирчив к отсуствию выполнения некоторых стат. допущений\n",
        "(например: у нас все метрики ненормально распределены)\n",
        "\n",
        "Но, t-test может закрыть глаза на ненормальное распределение, если объем выборки небольшой. А у нас как раз небольшой объем выборки!"
      ]
    },
    {
      "cell_type": "markdown",
      "metadata": {
        "id": "P3zTURM1l6ih"
      },
      "source": [
        "### Bootstrap"
      ]
    },
    {
      "cell_type": "markdown",
      "metadata": {
        "id": "_NQeMMQ9l6ih"
      },
      "source": [
        "#### При проведении bootstrap мы видим что различия статзначимы"
      ]
    },
    {
      "cell_type": "code",
      "execution_count": null,
      "metadata": {
        "id": "68J_2gecl6ih",
        "outputId": "2c307a5a-112d-44a3-e4c6-49274229e4d1"
      },
      "outputs": [
        {
          "data": {
            "text/plain": [
              "array([ 716.62, 1020.42])"
            ]
          },
          "execution_count": 58,
          "metadata": {},
          "output_type": "execute_result"
        }
      ],
      "source": [
        "pg.compute_bootci(full_df.query('rev > 0 & grp == \"A\"' )['rev'], func='mean')"
      ]
    },
    {
      "cell_type": "code",
      "execution_count": null,
      "metadata": {
        "scrolled": true,
        "id": "P7d0IEKBl6ii",
        "outputId": "d75fc712-a6f6-427a-dc13-b8c3e280328e"
      },
      "outputs": [
        {
          "data": {
            "text/plain": [
              "array([1042.58, 1179.24])"
            ]
          },
          "execution_count": 46,
          "metadata": {},
          "output_type": "execute_result"
        }
      ],
      "source": [
        "pg.compute_bootci(full_df.query('rev > 0 & grp == \"B\"' )['rev'], func='mean')"
      ]
    },
    {
      "cell_type": "markdown",
      "metadata": {
        "id": "tJOIh5vXl6ii"
      },
      "source": [
        "### T-test"
      ]
    },
    {
      "cell_type": "markdown",
      "metadata": {
        "id": "DdhR2QBel6ij"
      },
      "source": [
        "#### Проведя Т-тест мы можем наблюдать что результаты статзначимы, но распределение далеко не нормальное\n"
      ]
    },
    {
      "cell_type": "code",
      "execution_count": null,
      "metadata": {
        "id": "58DqDHUWl6ij",
        "outputId": "93749c10-859a-4a24-9162-0108d6e88a83"
      },
      "outputs": [
        {
          "data": {
            "text/html": [
              "<div>\n",
              "<style scoped>\n",
              "    .dataframe tbody tr th:only-of-type {\n",
              "        vertical-align: middle;\n",
              "    }\n",
              "\n",
              "    .dataframe tbody tr th {\n",
              "        vertical-align: top;\n",
              "    }\n",
              "\n",
              "    .dataframe thead th {\n",
              "        text-align: right;\n",
              "    }\n",
              "</style>\n",
              "<table border=\"1\" class=\"dataframe\">\n",
              "  <thead>\n",
              "    <tr style=\"text-align: right;\">\n",
              "      <th></th>\n",
              "      <th>T</th>\n",
              "      <th>dof</th>\n",
              "      <th>alternative</th>\n",
              "      <th>p-val</th>\n",
              "      <th>CI95%</th>\n",
              "      <th>cohen-d</th>\n",
              "      <th>BF10</th>\n",
              "      <th>power</th>\n",
              "    </tr>\n",
              "  </thead>\n",
              "  <tbody>\n",
              "    <tr>\n",
              "      <th>T-test</th>\n",
              "      <td>-2.867019</td>\n",
              "      <td>152.06622</td>\n",
              "      <td>two-sided</td>\n",
              "      <td>0.004732</td>\n",
              "      <td>[-419.09, -77.14]</td>\n",
              "      <td>0.327773</td>\n",
              "      <td>6.039</td>\n",
              "      <td>0.858002</td>\n",
              "    </tr>\n",
              "  </tbody>\n",
              "</table>\n",
              "</div>"
            ],
            "text/plain": [
              "               T        dof alternative     p-val              CI95%  \\\n",
              "T-test -2.867019  152.06622   two-sided  0.004732  [-419.09, -77.14]   \n",
              "\n",
              "         cohen-d   BF10     power  \n",
              "T-test  0.327773  6.039  0.858002  "
            ]
          },
          "execution_count": 43,
          "metadata": {},
          "output_type": "execute_result"
        }
      ],
      "source": [
        "pg.ttest(full_df.query('rev > 0 & grp == \"A\"' )['rev'], full_df.query('rev > 0 & grp == \"B\"' )['rev'])"
      ]
    },
    {
      "cell_type": "markdown",
      "metadata": {
        "id": "CApIaVCrl6ij"
      },
      "source": [
        "#### Даже после логарифмирования, результат не сильно изменился"
      ]
    },
    {
      "cell_type": "code",
      "execution_count": null,
      "metadata": {
        "scrolled": true,
        "id": "mBNOD757l6ik",
        "outputId": "b915e445-8826-4db1-a65f-2bf77ae7b15d"
      },
      "outputs": [
        {
          "data": {
            "text/html": [
              "<div>\n",
              "<style scoped>\n",
              "    .dataframe tbody tr th:only-of-type {\n",
              "        vertical-align: middle;\n",
              "    }\n",
              "\n",
              "    .dataframe tbody tr th {\n",
              "        vertical-align: top;\n",
              "    }\n",
              "\n",
              "    .dataframe thead th {\n",
              "        text-align: right;\n",
              "    }\n",
              "</style>\n",
              "<table border=\"1\" class=\"dataframe\">\n",
              "  <thead>\n",
              "    <tr style=\"text-align: right;\">\n",
              "      <th></th>\n",
              "      <th>T</th>\n",
              "      <th>dof</th>\n",
              "      <th>alternative</th>\n",
              "      <th>p-val</th>\n",
              "      <th>CI95%</th>\n",
              "      <th>cohen-d</th>\n",
              "      <th>BF10</th>\n",
              "      <th>power</th>\n",
              "    </tr>\n",
              "  </thead>\n",
              "  <tbody>\n",
              "    <tr>\n",
              "      <th>T-test</th>\n",
              "      <td>-3.602752</td>\n",
              "      <td>166.346707</td>\n",
              "      <td>two-sided</td>\n",
              "      <td>0.000416</td>\n",
              "      <td>[-0.47, -0.14]</td>\n",
              "      <td>0.381196</td>\n",
              "      <td>57.57</td>\n",
              "      <td>0.941263</td>\n",
              "    </tr>\n",
              "  </tbody>\n",
              "</table>\n",
              "</div>"
            ],
            "text/plain": [
              "               T         dof alternative     p-val           CI95%   cohen-d  \\\n",
              "T-test -3.602752  166.346707   two-sided  0.000416  [-0.47, -0.14]  0.381196   \n",
              "\n",
              "         BF10     power  \n",
              "T-test  57.57  0.941263  "
            ]
          },
          "execution_count": 44,
          "metadata": {},
          "output_type": "execute_result"
        }
      ],
      "source": [
        "pg.ttest(np.log(full_df.query('rev > 0 & grp == \"A\"' )['rev']), np.log(full_df.query('rev > 0 & grp == \"B\"' )['rev']))"
      ]
    },
    {
      "cell_type": "markdown",
      "metadata": {
        "id": "L7meJQI0l6ik"
      },
      "source": [
        "Как итог, можем наблюдать что средние в двух группах различаются"
      ]
    },
    {
      "cell_type": "markdown",
      "metadata": {
        "id": "8UGd4xcyl6ik"
      },
      "source": [
        "## ARPU"
      ]
    },
    {
      "cell_type": "markdown",
      "metadata": {
        "id": "CUbxiqggl6il"
      },
      "source": [
        "### Гипотезы:\n",
        "####  H0: ARPU не различается в двух группах\n",
        "####  H1: ARPU   различаются в двух группах"
      ]
    },
    {
      "cell_type": "markdown",
      "metadata": {
        "id": "kGZiIHNbl6il"
      },
      "source": [
        "Также проведем здесь T-test"
      ]
    },
    {
      "cell_type": "markdown",
      "metadata": {
        "id": "_f_ip4i8l6il"
      },
      "source": [
        "#### Проведя Т-тест мы можем наблюдать что результаты не статзначимы"
      ]
    },
    {
      "cell_type": "code",
      "execution_count": null,
      "metadata": {
        "scrolled": true,
        "id": "eKhTYhr3l6im",
        "outputId": "9ee6ee8e-6d5e-43b9-943f-d77de758fb8b"
      },
      "outputs": [
        {
          "data": {
            "text/html": [
              "<div>\n",
              "<style scoped>\n",
              "    .dataframe tbody tr th:only-of-type {\n",
              "        vertical-align: middle;\n",
              "    }\n",
              "\n",
              "    .dataframe tbody tr th {\n",
              "        vertical-align: top;\n",
              "    }\n",
              "\n",
              "    .dataframe thead th {\n",
              "        text-align: right;\n",
              "    }\n",
              "</style>\n",
              "<table border=\"1\" class=\"dataframe\">\n",
              "  <thead>\n",
              "    <tr style=\"text-align: right;\">\n",
              "      <th></th>\n",
              "      <th>T</th>\n",
              "      <th>dof</th>\n",
              "      <th>alternative</th>\n",
              "      <th>p-val</th>\n",
              "      <th>CI95%</th>\n",
              "      <th>cohen-d</th>\n",
              "      <th>BF10</th>\n",
              "      <th>power</th>\n",
              "    </tr>\n",
              "  </thead>\n",
              "  <tbody>\n",
              "    <tr>\n",
              "      <th>T-test</th>\n",
              "      <td>0.0</td>\n",
              "      <td>16978</td>\n",
              "      <td>two-sided</td>\n",
              "      <td>1.0</td>\n",
              "      <td>[-9.7, 9.7]</td>\n",
              "      <td>0.0</td>\n",
              "      <td>0.017</td>\n",
              "      <td>0.05</td>\n",
              "    </tr>\n",
              "  </tbody>\n",
              "</table>\n",
              "</div>"
            ],
            "text/plain": [
              "          T    dof alternative  p-val        CI95%  cohen-d   BF10  power\n",
              "T-test  0.0  16978   two-sided    1.0  [-9.7, 9.7]      0.0  0.017   0.05"
            ]
          },
          "execution_count": 47,
          "metadata": {},
          "output_type": "execute_result"
        }
      ],
      "source": [
        "pg.ttest(full_df.query('active_user == True')['rev'], full_df.query('active_user == True')['rev'])"
      ]
    },
    {
      "cell_type": "markdown",
      "metadata": {
        "id": "Ce4TEOonl6im"
      },
      "source": [
        "Отклоняем альтернативную гипотезу H1: ARPU различаются в двух группах"
      ]
    },
    {
      "cell_type": "markdown",
      "metadata": {
        "id": "RvB3qgLVl6im"
      },
      "source": [
        "## CR"
      ]
    },
    {
      "cell_type": "markdown",
      "metadata": {
        "id": "0C23o9Xtl6in"
      },
      "source": [
        "### Гипотезы:\n",
        "####  H0: Взаимосвязи между Статусом и Группой нет\n",
        "####  H1: Взаимосвязь между Статусом и Группой присутвует"
      ]
    },
    {
      "cell_type": "markdown",
      "metadata": {
        "id": "ewkTLetPl6in"
      },
      "source": [
        "Будем использовать хи-квадрат, так как конверсия это категориальная переменная: перешел в покупку или нет?"
      ]
    },
    {
      "cell_type": "markdown",
      "metadata": {
        "id": "6NS4QrZOl6in"
      },
      "source": [
        "#### Строим таблицу сопряженности"
      ]
    },
    {
      "cell_type": "code",
      "execution_count": null,
      "metadata": {
        "id": "3N2DUwIZl6io",
        "outputId": "5036764f-8183-4c8f-da9d-24bace4a92b8"
      },
      "outputs": [
        {
          "data": {
            "text/html": [
              "<div>\n",
              "<style scoped>\n",
              "    .dataframe tbody tr th:only-of-type {\n",
              "        vertical-align: middle;\n",
              "    }\n",
              "\n",
              "    .dataframe tbody tr th {\n",
              "        vertical-align: top;\n",
              "    }\n",
              "\n",
              "    .dataframe thead th {\n",
              "        text-align: right;\n",
              "    }\n",
              "</style>\n",
              "<table border=\"1\" class=\"dataframe\">\n",
              "  <thead>\n",
              "    <tr style=\"text-align: right;\">\n",
              "      <th>active_user</th>\n",
              "      <th>False</th>\n",
              "      <th>True</th>\n",
              "    </tr>\n",
              "    <tr>\n",
              "      <th>grp</th>\n",
              "      <th></th>\n",
              "      <th></th>\n",
              "    </tr>\n",
              "  </thead>\n",
              "  <tbody>\n",
              "    <tr>\n",
              "      <th>A</th>\n",
              "      <td>13126</td>\n",
              "      <td>1567</td>\n",
              "    </tr>\n",
              "    <tr>\n",
              "      <th>B</th>\n",
              "      <td>52960</td>\n",
              "      <td>6923</td>\n",
              "    </tr>\n",
              "  </tbody>\n",
              "</table>\n",
              "</div>"
            ],
            "text/plain": [
              "active_user  False  True \n",
              "grp                      \n",
              "A            13126   1567\n",
              "B            52960   6923"
            ]
          },
          "execution_count": 48,
          "metadata": {},
          "output_type": "execute_result"
        }
      ],
      "source": [
        "pd.crosstab(full_df['grp'], full_df['active_user'])"
      ]
    },
    {
      "cell_type": "code",
      "execution_count": null,
      "metadata": {
        "scrolled": false,
        "id": "-pgm1uE9l6io",
        "outputId": "c6956bfa-c36b-4ee7-8695-8c2968786fce"
      },
      "outputs": [
        {
          "name": "stdout",
          "output_type": "stream",
          "text": [
            "p-value = 0.0023\n"
          ]
        }
      ],
      "source": [
        "c, p, dof, expected = stats.chi2_contingency(pd.crosstab(full_df['grp'], full_df['active_user']))\n",
        "print(f'p-value = {round(p,4)}')\n",
        "# Также мы можем наблюдать статистически значимые различия у конверсии в покупку"
      ]
    },
    {
      "cell_type": "markdown",
      "metadata": {
        "id": "1JbZZ6gal6io"
      },
      "source": [
        "Принимаем альтернативную гипотезу H1: Взаимосвязь между Статусом и Группой присутвует"
      ]
    },
    {
      "cell_type": "markdown",
      "metadata": {
        "id": "04NHzdsEl6ip"
      },
      "source": [
        "###### Статистически значимые различия обнаружены у таких метрик как: Средний чек на платящего пользователя и Конверсия в покупку. У Среднего чека об этом свидетельствуют такие стат. тесты как Т-тест и bootstrap. У конверсии это Хи-квадрат"
      ]
    },
    {
      "cell_type": "markdown",
      "metadata": {
        "id": "qhpf8bhkl6ip"
      },
      "source": [
        "#### ----------------------------------------------------------------------------------------------------------------------------------------------------------------------------------------"
      ]
    },
    {
      "cell_type": "markdown",
      "metadata": {
        "id": "19-nN9TMl6ip"
      },
      "source": [
        "## Вопрос 4. Принятие решения о запуске новой механики"
      ]
    },
    {
      "cell_type": "markdown",
      "metadata": {
        "id": "oWJUXA89l6ip"
      },
      "source": [
        "# Вывод:\n",
        "### По моему мнению, запускать новую механику нужно, так как разница в среднем чеке на платящего пользователя достаточно высокая и конверсия в покупку тоже выше чем у контрольной группы, а это нам выгодно для увеличения прибыли"
      ]
    },
    {
      "cell_type": "markdown",
      "metadata": {
        "id": "sUsuJSIQl6iq"
      },
      "source": [
        "# ---------------------------------------------------------------------------------------------------------------"
      ]
    },
    {
      "cell_type": "markdown",
      "metadata": {
        "id": "Ur_L3-xOl6iq"
      },
      "source": [
        "# Раздел 2. SQL"
      ]
    },
    {
      "cell_type": "markdown",
      "metadata": {
        "id": "d_8X30Rnl6iq"
      },
      "source": [
        "###### Образовательные курсы состоят из различных уроков, каждый из которых состоит из нескольких маленьких заданий. Каждое такое маленькое задание называется \"горошиной\". Назовём очень усердным учеником того пользователя, который хотя бы раз за текущий месяц правильно решил 20 горошин."
      ]
    },
    {
      "cell_type": "markdown",
      "metadata": {
        "id": "6ZAiCUoul6ir"
      },
      "source": [
        "### Задача 2.1 Очень усердные ученики:\n",
        "###### Необходимо написать оптимальный запрос, который даст информацию о количестве очень усердных студентов.NB! Под усердным студентом мы понимаем студента, который правильно решил 20 задач за текущий месяц."
      ]
    },
    {
      "cell_type": "code",
      "execution_count": null,
      "metadata": {
        "id": "KCkPxLxUl6ir",
        "outputId": "908ec099-4759-46a1-ead8-7fb2525846f0"
      },
      "outputs": [
        {
          "data": {
            "text/plain": [
              "\"WITH monthly_scores AS (\\n    SELECT \\n        st_id,\\n        SUM(correct) AS sum_correct\\n    FROM default.peas\\n    WHERE toStartOfMonth(timest) = '2021-10-01'\\n    GROUP BY st_id\\n)\\nSELECT COUNT(DISTINCT st_id)\\nFROM monthly_scores\\nWHERE sum_correct >= 20\""
            ]
          },
          "execution_count": 50,
          "metadata": {},
          "output_type": "execute_result"
        }
      ],
      "source": [
        "'''WITH monthly_scores AS (\n",
        "    SELECT\n",
        "        st_id,\n",
        "        SUM(correct) AS sum_correct\n",
        "    FROM default.peas\n",
        "    WHERE toStartOfMonth(timest) = '2021-10-01'\n",
        "    GROUP BY st_id\n",
        ")\n",
        "SELECT COUNT(DISTINCT st_id)\n",
        "FROM monthly_scores\n",
        "WHERE sum_correct >= 20''' #136"
      ]
    },
    {
      "cell_type": "markdown",
      "metadata": {
        "id": "oEROe9jfl6ir"
      },
      "source": [
        "### SQL запрос Оптимизация воронки:\n",
        "#### Необходимо в одном запросе выгрузить следующую информацию о группах пользователей:\n",
        "##### ARPU\n",
        "##### ARPPU\n",
        "##### CR в покупку\n",
        "##### СR активного пользователя в покупку\n",
        "##### CR пользователя из активности по математике (subject = ’math’) в покупку курса по математике\n",
        "##### ARPU считается относительно всех пользователей, попавших в группы."
      ]
    },
    {
      "cell_type": "code",
      "execution_count": null,
      "metadata": {
        "id": "zdd3Qlltl6ir",
        "outputId": "a5afbb87-b103-4270-a1ce-3a351e1133a2"
      },
      "outputs": [
        {
          "data": {
            "text/plain": [
              "'SELECT \\n    grp,\\n    SUM(rev) / COUNT(DISTINCT main_id) AS ARPU,\\n    SUM(rev) / COUNT(DISTINCT id) AS ARPPU,\\n    COUNT(DISTINCT (pur_id)) / COUNT(DISTINCT (main_id)) * 100 AS CR,\\n    COUNT(DISTINCT (pur_id)) / COUNT(DISTINCT (id)) * 100 AS CR_active\\nFROM (\\n    SELECT \\n        a.st_id AS id,\\n        a.subject AS a_subject,\\n        a.sum_correct AS correct,\\n        main.st_id AS main_id,\\n        main.grp AS grp,\\n        main.pur_id AS pur_id,\\n        main.subject AS p_subject,\\n        main.rev AS rev\\n    FROM (\\n        SELECT \\n            st_id,\\n            subject,\\n            SUM(correct) AS sum_correct\\n        FROM default.peas\\n        GROUP BY subject, st_id\\n        HAVING sum_correct > 10\\n    ) AS a\\n    RIGHT JOIN (\\n        SELECT \\n            fl.st_id AS st_id,\\n            fl.test_grp AS grp,\\n            pur.st_id AS pur_id,\\n            pur.subject AS subject,\\n            pur.rev AS rev\\n        FROM (\\n            SELECT DISTINCT st_id, test_grp FROM studs\\n        ) AS fl\\n        LEFT JOIN (\\n            SELECT st_id, subject, SUM(money) AS rev\\n            FROM final_project_check\\n            GROUP BY st_id, subject\\n        ) AS pur\\n        ON fl.st_id = pur.st_id\\n    ) AS main\\n    ON a.st_id = main.st_id AND a.subject = main.subject\\n) AS full_table\\nGROUP BY grp'"
            ]
          },
          "execution_count": 51,
          "metadata": {},
          "output_type": "execute_result"
        }
      ],
      "source": [
        "'''SELECT\n",
        "    grp,\n",
        "    SUM(rev) / COUNT(DISTINCT main_id) AS ARPU,\n",
        "    SUM(rev) / COUNT(DISTINCT id) AS ARPPU,\n",
        "    COUNT(DISTINCT (pur_id)) / COUNT(DISTINCT (main_id)) * 100 AS CR,\n",
        "    COUNT(DISTINCT (pur_id)) / COUNT(DISTINCT (id)) * 100 AS CR_active\n",
        "FROM (\n",
        "    SELECT\n",
        "        a.st_id AS id,\n",
        "        a.subject AS a_subject,\n",
        "        a.sum_correct AS correct,\n",
        "        main.st_id AS main_id,\n",
        "        main.grp AS grp,\n",
        "        main.pur_id AS pur_id,\n",
        "        main.subject AS p_subject,\n",
        "        main.rev AS rev\n",
        "    FROM (\n",
        "        SELECT\n",
        "            st_id,\n",
        "            subject,\n",
        "            SUM(correct) AS sum_correct\n",
        "        FROM default.peas\n",
        "        GROUP BY subject, st_id\n",
        "        HAVING sum_correct > 10\n",
        "    ) AS a\n",
        "    RIGHT JOIN (\n",
        "        SELECT\n",
        "            fl.st_id AS st_id,\n",
        "            fl.test_grp AS grp,\n",
        "            pur.st_id AS pur_id,\n",
        "            pur.subject AS subject,\n",
        "            pur.rev AS rev\n",
        "        FROM (\n",
        "            SELECT DISTINCT st_id, test_grp FROM studs\n",
        "        ) AS fl\n",
        "        LEFT JOIN (\n",
        "            SELECT st_id, subject, SUM(money) AS rev\n",
        "            FROM final_project_check\n",
        "            GROUP BY st_id, subject\n",
        "        ) AS pur\n",
        "        ON fl.st_id = pur.st_id\n",
        "    ) AS main\n",
        "    ON a.st_id = main.st_id AND a.subject = main.subject\n",
        ") AS full_table\n",
        "GROUP BY grp''' # CR математики не сделано"
      ]
    },
    {
      "cell_type": "markdown",
      "metadata": {
        "id": "Ch5TyfI3l6is"
      },
      "source": [
        "# ---------------------------------------------------------------------------------------------------------------"
      ]
    },
    {
      "cell_type": "markdown",
      "metadata": {
        "id": "VzI6dSjil6is"
      },
      "source": [
        "# Раздел 3. Python"
      ]
    },
    {
      "cell_type": "markdown",
      "metadata": {
        "id": "NpaGw_bil6is"
      },
      "source": [
        "###### Как я понял, в этом задании мне необходимо сделать всё тоже самое что и в первом, только прикрутить это в функцию"
      ]
    },
    {
      "cell_type": "code",
      "execution_count": null,
      "metadata": {
        "id": "lLQkEJcll6it",
        "outputId": "06af6e0d-d38a-4659-efd9-965b4373a7dc"
      },
      "outputs": [
        {
          "data": {
            "text/html": [
              "<div>\n",
              "<style scoped>\n",
              "    .dataframe tbody tr th:only-of-type {\n",
              "        vertical-align: middle;\n",
              "    }\n",
              "\n",
              "    .dataframe tbody tr th {\n",
              "        vertical-align: top;\n",
              "    }\n",
              "\n",
              "    .dataframe thead th {\n",
              "        text-align: right;\n",
              "    }\n",
              "</style>\n",
              "<table border=\"1\" class=\"dataframe\">\n",
              "  <thead>\n",
              "    <tr style=\"text-align: right;\">\n",
              "      <th></th>\n",
              "      <th>grp</th>\n",
              "      <th>avg</th>\n",
              "    </tr>\n",
              "  </thead>\n",
              "  <tbody>\n",
              "    <tr>\n",
              "      <th>0</th>\n",
              "      <td>A</td>\n",
              "      <td>860.710280</td>\n",
              "    </tr>\n",
              "    <tr>\n",
              "      <th>1</th>\n",
              "      <td>B</td>\n",
              "      <td>1108.824893</td>\n",
              "    </tr>\n",
              "  </tbody>\n",
              "</table>\n",
              "</div>"
            ],
            "text/plain": [
              "  grp          avg\n",
              "0   A   860.710280\n",
              "1   B  1108.824893"
            ]
          },
          "metadata": {},
          "output_type": "display_data"
        },
        {
          "data": {
            "text/html": [
              "<div>\n",
              "<style scoped>\n",
              "    .dataframe tbody tr th:only-of-type {\n",
              "        vertical-align: middle;\n",
              "    }\n",
              "\n",
              "    .dataframe tbody tr th {\n",
              "        vertical-align: top;\n",
              "    }\n",
              "\n",
              "    .dataframe thead th {\n",
              "        text-align: right;\n",
              "    }\n",
              "</style>\n",
              "<table border=\"1\" class=\"dataframe\">\n",
              "  <thead>\n",
              "    <tr style=\"text-align: right;\">\n",
              "      <th></th>\n",
              "      <th>grp</th>\n",
              "      <th>conversion</th>\n",
              "    </tr>\n",
              "  </thead>\n",
              "  <tbody>\n",
              "    <tr>\n",
              "      <th>0</th>\n",
              "      <td>A</td>\n",
              "      <td>1.260306</td>\n",
              "    </tr>\n",
              "    <tr>\n",
              "      <th>1</th>\n",
              "      <td>B</td>\n",
              "      <td>5.111896</td>\n",
              "    </tr>\n",
              "  </tbody>\n",
              "</table>\n",
              "</div>"
            ],
            "text/plain": [
              "  grp  conversion\n",
              "0   A    1.260306\n",
              "1   B    5.111896"
            ]
          },
          "metadata": {},
          "output_type": "display_data"
        },
        {
          "data": {
            "text/html": [
              "<div>\n",
              "<style scoped>\n",
              "    .dataframe tbody tr th:only-of-type {\n",
              "        vertical-align: middle;\n",
              "    }\n",
              "\n",
              "    .dataframe tbody tr th {\n",
              "        vertical-align: top;\n",
              "    }\n",
              "\n",
              "    .dataframe thead th {\n",
              "        text-align: right;\n",
              "    }\n",
              "</style>\n",
              "<table border=\"1\" class=\"dataframe\">\n",
              "  <thead>\n",
              "    <tr style=\"text-align: right;\">\n",
              "      <th></th>\n",
              "      <th>grp</th>\n",
              "      <th>ARPU</th>\n",
              "    </tr>\n",
              "  </thead>\n",
              "  <tbody>\n",
              "    <tr>\n",
              "      <th>0</th>\n",
              "      <td>A</td>\n",
              "      <td>58.8</td>\n",
              "    </tr>\n",
              "    <tr>\n",
              "      <th>1</th>\n",
              "      <td>B</td>\n",
              "      <td>69.5</td>\n",
              "    </tr>\n",
              "  </tbody>\n",
              "</table>\n",
              "</div>"
            ],
            "text/plain": [
              "  grp  ARPU\n",
              "0   A  58.8\n",
              "1   B  69.5"
            ]
          },
          "metadata": {},
          "output_type": "display_data"
        }
      ],
      "source": [
        "def download_info(filepath):\n",
        "    # Прописываем аргументы такие как : путь к файлу, разделитель по умолчанию, отсутствие заголовков\n",
        "    group_add = pd.read_csv(filepath, header=0, names=['id', 'grp'])\n",
        "    groups = pd.read_csv('/mnt/HC_Volume_18315164/home-jupyter/jupyter-d-martynov/lesson_1_DM/FINAL_PROJECT/Проект_2_groups.csv', sep=';')\n",
        "    active_studs = pd.read_csv('/mnt/HC_Volume_18315164/home-jupyter/jupyter-d-martynov/lesson_1_DM/FINAL_PROJECT/Проект_2_active_studs.csv')\n",
        "    checks = pd.read_csv('/mnt/HC_Volume_18315164/home-jupyter/jupyter-d-martynov/lesson_1_DM/FINAL_PROJECT/Проект_2_checks.csv', sep=';')\n",
        "\n",
        "    # Переименуем колонки\n",
        "    active_studs = active_studs.rename(columns={'student_id':'id'})\n",
        "    checks =  checks.rename(columns={'student_id':'id'})\n",
        "\n",
        "    # Склейка\n",
        "    full_group = pd.concat([groups, group_add])\n",
        "\n",
        "    #Новый столбец\n",
        "    full_group['active_user'] = np.isin(full_group['id'], active_studs)\n",
        "\n",
        "    # ДФ\n",
        "    full_df = pd.merge(full_group, checks, on='id', how='left')\n",
        "    full_df['rev'] = full_df['rev'].fillna(0) # Заменил NaN нулями\n",
        "\n",
        "    avg_values = full_df.query('rev > 0').groupby('grp',as_index=False).agg({'rev':'mean'}). \\\n",
        "    rename(columns={'rev':'avg'})\n",
        "    avg_values\n",
        "\n",
        "    conversion = ((target_action[['id']] / pool_users) * 100).rename(columns={'id':'conversion'},) \\\n",
        "    .set_index(target_action['grp']).reset_index()\n",
        "\n",
        "    arpu_sum_rev_grp['ARPU'] = round(arpu_sum_rev_grp['rev'] / arpu_sum_rev_grp['num_users'],1)\n",
        "    ARPU = arpu_sum_rev_grp[['grp', 'ARPU']]\n",
        "\n",
        "    return display(avg_values, conversion, ARPU)\n",
        "\n",
        "\n",
        "\n",
        "download_info('/mnt/HC_Volume_18315164/home-jupyter/jupyter-d-martynov/lesson_1_DM/FINAL_PROJECT/Проект_2_group_add.csv')\n",
        "\n",
        "\n",
        ""
      ]
    },
    {
      "cell_type": "markdown",
      "metadata": {
        "id": "dqmEPxhzl6it"
      },
      "source": [
        "### Создаем графики на основе метрик"
      ]
    },
    {
      "cell_type": "code",
      "execution_count": null,
      "metadata": {
        "id": "Q5bPGrZ5l6it",
        "outputId": "eceb6286-ea39-4dd9-c580-d72a49fbeb7b"
      },
      "outputs": [
        {
          "data": {
            "image/png": "[encoded data removed]",
            "text/plain": [
              "<Figure size 432x288 with 3 Axes>"
            ]
          },
          "metadata": {
            "needs_background": "light"
          },
          "output_type": "display_data"
        }
      ],
      "source": [
        "def create_plots(avg, conv, arp):\n",
        "\n",
        "    plt.subplot(1, 4, 1)\n",
        "    sns.barplot(x='grp', y='avg', data=avg, palette='Set1')\n",
        "    plt.xlabel('group')\n",
        "\n",
        "    plt.subplot(1, 4, 2)\n",
        "    sns.barplot(x='grp', y='conversion', data=conv, palette='Set2')\n",
        "    plt.xlabel('group')\n",
        "\n",
        "    plt.subplot(1, 4, 3)\n",
        "    sns.barplot(x='grp', y='ARPU', data=arp, palette=['green', 'blue'])\n",
        "    plt.xlabel('group')\n",
        "    plt.tight_layout(rect=(0, 0, 2, 1))\n",
        "\n",
        "\n",
        "create_plots(avg_values, conversion, ARPU)\n",
        "plt.show()  # Для отображения графика"
      ]
    },
    {
      "cell_type": "code",
      "execution_count": null,
      "metadata": {
        "id": "Sboyaziyl6iu"
      },
      "outputs": [],
      "source": []
    },
    {
      "cell_type": "code",
      "execution_count": null,
      "metadata": {
        "id": "1gngfXiOl6iu"
      },
      "outputs": [],
      "source": []
    },
    {
      "cell_type": "code",
      "execution_count": null,
      "metadata": {
        "id": "T2VYZRB8l6iu"
      },
      "outputs": [],
      "source": []
    },
    {
      "cell_type": "code",
      "execution_count": null,
      "metadata": {
        "id": "37x9TRfzl6iv"
      },
      "outputs": [],
      "source": []
    },
    {
      "cell_type": "code",
      "execution_count": null,
      "metadata": {
        "id": "do4Vj3TAl6iv"
      },
      "outputs": [],
      "source": []
    },
    {
      "cell_type": "code",
      "execution_count": null,
      "metadata": {
        "id": "xMKp0UiKl6iv"
      },
      "outputs": [],
      "source": []
    },
    {
      "cell_type": "code",
      "execution_count": null,
      "metadata": {
        "id": "-zE5cewul6iv"
      },
      "outputs": [],
      "source": []
    },
    {
      "cell_type": "code",
      "execution_count": null,
      "metadata": {
        "id": "k7BIUbgpl6iw"
      },
      "outputs": [],
      "source": []
    },
    {
      "cell_type": "code",
      "execution_count": null,
      "metadata": {
        "id": "WevV2p7Jl6iw"
      },
      "outputs": [],
      "source": []
    }
  ],
  "metadata": {
    "celltoolbar": "Raw Cell Format",
    "kernelspec": {
      "display_name": "Python 3",
      "language": "python",
      "name": "python3"
    },
    "language_info": {
      "codemirror_mode": {
        "name": "ipython",
        "version": 3
      },
      "file_extension": ".py",
      "mimetype": "text/x-python",
      "name": "python",
      "nbconvert_exporter": "python",
      "pygments_lexer": "ipython3",
      "version": "3.7.3"
    },
    "colab": {
      "provenance": []
    }
  },
  "nbformat": 4,
  "nbformat_minor": 0
}